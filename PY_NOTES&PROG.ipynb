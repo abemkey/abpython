{
  "cells": [
    {
      "cell_type": "markdown",
      "metadata": {
        "id": "view-in-github",
        "colab_type": "text"
      },
      "source": [
        "<a href=\"https://colab.research.google.com/github/abemkey/abpython/blob/master/PY_NOTES%26PROG.ipynb\" target=\"_parent\"><img src=\"https://colab.research.google.com/assets/colab-badge.svg\" alt=\"Open In Colab\"/></a>"
      ]
    },
    {
      "cell_type": "code",
      "execution_count": null,
      "metadata": {
        "colab": {
          "base_uri": "https://localhost:8080/"
        },
        "id": "qOk7cZqJZSBH",
        "outputId": "e4e6a4df-deb6-4768-b83c-e62411e79a68"
      },
      "outputs": [
        {
          "name": "stdout",
          "output_type": "stream",
          "text": [
            "hello futura\n"
          ]
        }
      ],
      "source": [
        "print(\"hello futura\")"
      ]
    },
    {
      "cell_type": "code",
      "source": [],
      "metadata": {
        "id": "OFyBmC62XcBQ"
      },
      "execution_count": null,
      "outputs": []
    },
    {
      "cell_type": "code",
      "execution_count": null,
      "metadata": {
        "id": "MJshL-4t1r7g"
      },
      "outputs": [],
      "source": []
    },
    {
      "cell_type": "code",
      "execution_count": null,
      "metadata": {
        "colab": {
          "base_uri": "https://localhost:8080/"
        },
        "id": "z3j-5_FUgsqy",
        "outputId": "0f99aef5-f50d-4638-d908-d62085933987"
      },
      "outputs": [
        {
          "name": "stdout",
          "output_type": "stream",
          "text": [
            "<class 'int'>\n"
          ]
        }
      ],
      "source": [
        "a=11\n",
        "print(type(a))"
      ]
    },
    {
      "cell_type": "code",
      "source": [
        "# git pw ab183872"
      ],
      "metadata": {
        "id": "0v2Ba_f3lLks"
      },
      "execution_count": null,
      "outputs": []
    },
    {
      "cell_type": "code",
      "execution_count": null,
      "metadata": {
        "colab": {
          "base_uri": "https://localhost:8080/"
        },
        "id": "n9p9wb8hhWU2",
        "outputId": "917ea3b9-46e6-4c5f-b9ca-2941b3a18edd"
      },
      "outputs": [
        {
          "name": "stdout",
          "output_type": "stream",
          "text": [
            "9\n"
          ]
        }
      ],
      "source": [
        "a=3+6\n",
        "print(a)\n"
      ]
    },
    {
      "cell_type": "code",
      "execution_count": null,
      "metadata": {
        "colab": {
          "base_uri": "https://localhost:8080/"
        },
        "id": "s9sWUdc1hyou",
        "outputId": "03f1fc30-ee85-4c05-97df-9dee0538efae"
      },
      "outputs": [
        {
          "name": "stdout",
          "output_type": "stream",
          "text": [
            "51\n",
            "39\n",
            "270\n",
            "7.5\n",
            "3\n"
          ]
        }
      ],
      "source": [
        "a=45\n",
        "b=6\n",
        "c=a+b\n",
        "d=a-b\n",
        "e=a*b\n",
        "f=a/b\n",
        "g=a%b\n",
        "print(c)\n",
        "print(d)\n",
        "print(e)\n",
        "print(f)\n",
        "print(g)"
      ]
    },
    {
      "cell_type": "code",
      "execution_count": null,
      "metadata": {
        "colab": {
          "base_uri": "https://localhost:8080/"
        },
        "id": "4lORUJDTjF5J",
        "outputId": "a5a864a8-5230-42c8-842d-038519412314"
      },
      "outputs": [
        {
          "name": "stdout",
          "output_type": "stream",
          "text": [
            "enter a nuber4\n",
            "enter a nuber2\n",
            "6 \n",
            " 2 \n",
            " 8 \n",
            " 2.0 \n",
            " 0\n"
          ]
        }
      ],
      "source": [
        "a=int(input(\"enter a nuber\"))\n",
        "b=int(input(\"enter a nuber\"))\n",
        "c=a+b\n",
        "d=a-b\n",
        "e=a*b\n",
        "f=a/b\n",
        "g=a%b\n",
        "print(c,'\\n', d,'\\n',e,'\\n',f,'\\n',g)"
      ]
    },
    {
      "cell_type": "code",
      "source": [
        "a=int(input(\"enter a number\"))\n",
        "b=int(input(\"enter a number\"))\n",
        "a=a+b\n",
        "b=a-b\n",
        "a=a-b\n",
        "print(a,'\\n',b)"
      ],
      "metadata": {
        "colab": {
          "base_uri": "https://localhost:8080/"
        },
        "id": "rWRlgXr4J1gv",
        "outputId": "9dfe92ac-8bab-4ec8-ac20-eeeb552bddd9"
      },
      "execution_count": null,
      "outputs": [
        {
          "output_type": "stream",
          "name": "stdout",
          "text": [
            "enter a number2\n",
            "enter a number3\n",
            "3 \n",
            " 2\n"
          ]
        }
      ]
    },
    {
      "cell_type": "code",
      "source": [
        "for a in range(1,11):\n",
        "  print(a)"
      ],
      "metadata": {
        "colab": {
          "base_uri": "https://localhost:8080/"
        },
        "id": "4Q7TupmLK9Qw",
        "outputId": "3bacf15e-7182-49c7-f1ee-45a0325afe4b"
      },
      "execution_count": null,
      "outputs": [
        {
          "output_type": "stream",
          "name": "stdout",
          "text": [
            "1\n",
            "2\n",
            "3\n",
            "4\n",
            "5\n",
            "6\n",
            "7\n",
            "8\n",
            "9\n",
            "10\n"
          ]
        }
      ]
    },
    {
      "cell_type": "code",
      "source": [
        "sum=0\n",
        "a=int(input(\"enter a number\"))\n",
        "for a in range(1,a+1):\n",
        "  sum=sum+a\n",
        "print(sum)"
      ],
      "metadata": {
        "colab": {
          "base_uri": "https://localhost:8080/"
        },
        "id": "9RGPactTMOgL",
        "outputId": "c5d6b530-7b0d-41a4-8483-4084139cdd2c"
      },
      "execution_count": null,
      "outputs": [
        {
          "output_type": "stream",
          "name": "stdout",
          "text": [
            "enter a number3\n",
            "6\n"
          ]
        }
      ]
    },
    {
      "cell_type": "code",
      "execution_count": null,
      "metadata": {
        "colab": {
          "base_uri": "https://localhost:8080/"
        },
        "id": "mtolU0vs1yvw",
        "outputId": "f4ead91b-0d0f-4d10-aa00-d1566adff7e0"
      },
      "outputs": [
        {
          "name": "stdout",
          "output_type": "stream",
          "text": [
            "enter a numbr22\n",
            "eligible for voting\n"
          ]
        }
      ],
      "source": [
        "age=int(input(\"enter a numbr\"))\n",
        "if(age>18):\n",
        "  print(\"eligible for voting\")\n",
        "else:\n",
        "    print(\"not eligible for voting\")"
      ]
    },
    {
      "cell_type": "code",
      "execution_count": null,
      "metadata": {
        "colab": {
          "base_uri": "https://localhost:8080/"
        },
        "id": "rUEmdYrh3m7b",
        "outputId": "4e3e4110-0e69-4fa8-f600-5634db41f43b"
      },
      "outputs": [
        {
          "name": "stdout",
          "output_type": "stream",
          "text": [
            "enter a numbr34\n",
            "failed\n"
          ]
        }
      ],
      "source": [
        "mark=int(input(\"enter a numbr\"))\n",
        "if(mark>=90):\n",
        "  print(\"A+ grade\")\n",
        "elif(mark<90 and mark>=80):\n",
        "  print(\"A grade\")\n",
        "elif(mark<80 and mark>=60):\n",
        "  print(\"B grade\")\n",
        "elif(mark<60 and mark>=40):\n",
        "  print(\"passed\")\n",
        "else:\n",
        "    print(\"failed\")"
      ]
    },
    {
      "cell_type": "code",
      "execution_count": null,
      "metadata": {
        "colab": {
          "base_uri": "https://localhost:8080/"
        },
        "id": "Li37gkB98zGk",
        "outputId": "38d50330-aca7-4586-b8be-489125896c35"
      },
      "outputs": [
        {
          "name": "stdout",
          "output_type": "stream",
          "text": [
            "20.0 \n",
            "\n",
            "20 \n",
            "\n",
            "(20+0j)\n"
          ]
        }
      ],
      "source": [
        "a=20\n",
        "print(float(a),'\\n')\n",
        "print(a,'\\n')\n",
        "print(complex(a))\n"
      ]
    },
    {
      "cell_type": "code",
      "execution_count": null,
      "metadata": {
        "colab": {
          "base_uri": "https://localhost:8080/"
        },
        "id": "6HMEEk9Z9iaV",
        "outputId": "b86ae03c-67ca-4261-b461-2e77aee87881"
      },
      "outputs": [
        {
          "name": "stdout",
          "output_type": "stream",
          "text": [
            "2023\n"
          ]
        }
      ],
      "source": [
        "a=20\n",
        "b=23\n",
        "concat=str(a)+str(b)\n",
        "print(concat)"
      ]
    },
    {
      "cell_type": "code",
      "execution_count": null,
      "metadata": {
        "colab": {
          "base_uri": "https://localhost:8080/"
        },
        "id": "uH43BNV-99jD",
        "outputId": "687cb1d2-3bff-4461-c922-c326d9ec511c"
      },
      "outputs": [
        {
          "name": "stdout",
          "output_type": "stream",
          "text": [
            "welcome2024\n"
          ]
        }
      ],
      "source": [
        "a='welcome'\n",
        "b=2024\n",
        "c=a+str(b)\n",
        "print(c)"
      ]
    },
    {
      "cell_type": "code",
      "execution_count": null,
      "metadata": {
        "colab": {
          "base_uri": "https://localhost:8080/"
        },
        "id": "_vdadBr_-KtG",
        "outputId": "181b7f4c-53e0-4c09-8444-906b4e12a9fc"
      },
      "outputs": [
        {
          "name": "stdout",
          "output_type": "stream",
          "text": [
            "HTML tags are the keywords that are used to produce web pages in various formats. Opening tags and closing tags are found in the majority of tags. The concluding tags contain a forward slash (/), while the language of the beginning tags is the same. Certain tags don’t need to be closed\n"
          ]
        }
      ],
      "source": [
        "a=\"\"\"HTML tags are the keywords that are used to produce web pages in various formats. Opening tags and closing tags are found in the majority of tags. The concluding tags contain a forward slash (/), while the language of the beginning tags is the same. Certain tags don’t need to be closed\"\"\"\n",
        "print(a)"
      ]
    },
    {
      "cell_type": "code",
      "execution_count": null,
      "metadata": {
        "colab": {
          "base_uri": "https://localhost:8080/"
        },
        "id": "TJF7LAkqAWun",
        "outputId": "1ab159cb-4bc8-422b-a425-31552209deb9"
      },
      "outputs": [
        {
          "name": "stdout",
          "output_type": "stream",
          "text": [
            "enter radius2\n",
            "12.56\n"
          ]
        }
      ],
      "source": [
        "r=int(input(\"enter radius\"))\n",
        "a=3.14*r**2\n",
        "print(a)"
      ]
    },
    {
      "cell_type": "code",
      "execution_count": null,
      "metadata": {
        "colab": {
          "base_uri": "https://localhost:8080/"
        },
        "id": "LsTzslBcBIlp",
        "outputId": "ef0ddebe-05aa-4522-eab0-561339618cef"
      },
      "outputs": [
        {
          "name": "stdout",
          "output_type": "stream",
          "text": [
            "enter a number3\n",
            "enter a number4\n",
            "49\n"
          ]
        }
      ],
      "source": [
        "x=int(input(\"enter a number\"))\n",
        "y=int(input(\"enter a number\"))\n",
        "z=(x+y)**2\n",
        "print(z)"
      ]
    },
    {
      "cell_type": "code",
      "execution_count": null,
      "metadata": {
        "colab": {
          "base_uri": "https://localhost:8080/"
        },
        "id": "xEteDlPIJJC6",
        "outputId": "e8c885ce-2263-4ea9-ccc4-3b1cd11e711e"
      },
      "outputs": [
        {
          "name": "stdout",
          "output_type": "stream",
          "text": [
            "mango\n",
            "['apple', 'mango', 'orange']\n"
          ]
        }
      ],
      "source": [
        "list=['apple','mango','orange']\n",
        "list[0]\n",
        "print(list[1])\n",
        "print(list)"
      ]
    },
    {
      "cell_type": "code",
      "execution_count": null,
      "metadata": {
        "colab": {
          "base_uri": "https://localhost:8080/"
        },
        "id": "SpcHOuWRJxZF",
        "outputId": "8f6dd3d9-1a44-4459-f32e-5fcd0a33c0df"
      },
      "outputs": [
        {
          "name": "stdout",
          "output_type": "stream",
          "text": [
            "('cat', 'dog', 'rabbit')\n",
            "rabbit\n"
          ]
        }
      ],
      "source": [
        "from ast import Tuple\n",
        "tuple=('cat','dog','rabbit')\n",
        "tuple[0]\n",
        "print(tuple)\n",
        "print(tuple[2])"
      ]
    },
    {
      "cell_type": "code",
      "execution_count": null,
      "metadata": {
        "id": "zBfnUtHWngSv"
      },
      "outputs": [],
      "source": []
    },
    {
      "cell_type": "code",
      "execution_count": null,
      "metadata": {
        "colab": {
          "base_uri": "https://localhost:8080/"
        },
        "id": "GzDe_GB4JWnY",
        "outputId": "1316ba1e-a3c2-4f6c-99e8-1b77c8de0a92"
      },
      "outputs": [
        {
          "name": "stdout",
          "output_type": "stream",
          "text": [
            "bmw \n",
            " benz\n"
          ]
        }
      ],
      "source": [
        "list=['bmw','benz','audi','volvo']\n",
        "list[1]\n",
        "print(list[0],'\\n',list[1])\n"
      ]
    },
    {
      "cell_type": "code",
      "execution_count": null,
      "metadata": {
        "id": "mcVEqOpUNHVg"
      },
      "outputs": [],
      "source": []
    },
    {
      "cell_type": "code",
      "execution_count": null,
      "metadata": {
        "colab": {
          "base_uri": "https://localhost:8080/"
        },
        "id": "v3qo2o2RNP7y",
        "outputId": "91f39d06-2dac-43b9-d61c-a9eab90c48fd"
      },
      "outputs": [
        {
          "name": "stdout",
          "output_type": "stream",
          "text": [
            "['sam', 'onana', 'rash', 'antony']\n"
          ]
        }
      ],
      "source": [
        "list=['sam','john','rash','antony']\n",
        "list[1]='onana'\n",
        "print(list)"
      ]
    },
    {
      "cell_type": "code",
      "execution_count": null,
      "metadata": {
        "colab": {
          "base_uri": "https://localhost:8080/"
        },
        "id": "HN7hdRoHOBKR",
        "outputId": "907726de-c34a-41d2-9fd1-a698437dd18e"
      },
      "outputs": [
        {
          "name": "stdout",
          "output_type": "stream",
          "text": [
            "['sam', 'john', 'rash', 'antony', 'ab']\n"
          ]
        }
      ],
      "source": [
        "list=['sam','john','rash','antony']\n",
        "list.append('ab')\n",
        "print(list)"
      ]
    },
    {
      "cell_type": "code",
      "execution_count": null,
      "metadata": {
        "colab": {
          "base_uri": "https://localhost:8080/"
        },
        "id": "1YNwn8htOdfk",
        "outputId": "b795893e-2e83-41cf-b834-64e57c18186d"
      },
      "outputs": [
        {
          "name": "stdout",
          "output_type": "stream",
          "text": [
            "['sam', 'john', 'rash', 'jay', 'antony']\n"
          ]
        }
      ],
      "source": [
        "list=['sam','john','rash','antony']\n",
        "list.insert(3,'jay')\n",
        "print(list)"
      ]
    },
    {
      "cell_type": "code",
      "execution_count": null,
      "metadata": {
        "colab": {
          "base_uri": "https://localhost:8080/"
        },
        "id": "dGoKuoJCO1Y7",
        "outputId": "86da0014-4b51-49a0-9f37-b8ecbf738119"
      },
      "outputs": [
        {
          "name": "stdout",
          "output_type": "stream",
          "text": [
            "['sam', 'john', 'antony']\n"
          ]
        }
      ],
      "source": [
        "list=['sam','john','rash','antony']\n",
        "del list[2]\n",
        "print(list)"
      ]
    },
    {
      "cell_type": "code",
      "execution_count": null,
      "metadata": {
        "colab": {
          "base_uri": "https://localhost:8080/"
        },
        "id": "JOoq4OffPPdk",
        "outputId": "1342073d-cf7a-4280-c1ea-1d2f9f6baf36"
      },
      "outputs": [
        {
          "name": "stdout",
          "output_type": "stream",
          "text": [
            "['sam', 'john', 'antony']\n"
          ]
        }
      ],
      "source": [
        "list=['sam','john','rash','antony']\n",
        "list.remove('rash')\n",
        "print(list)"
      ]
    },
    {
      "cell_type": "code",
      "execution_count": null,
      "metadata": {
        "colab": {
          "base_uri": "https://localhost:8080/"
        },
        "id": "JGFkpUKuPww9",
        "outputId": "94aa1312-db49-4531-a964-93d4aada74f0"
      },
      "outputs": [
        {
          "name": "stdout",
          "output_type": "stream",
          "text": [
            "[]\n"
          ]
        }
      ],
      "source": [
        "list=['sam','john','rash','antony']\n",
        "list.clear()\n",
        "print(list)"
      ]
    },
    {
      "cell_type": "code",
      "execution_count": null,
      "metadata": {
        "colab": {
          "base_uri": "https://localhost:8080/"
        },
        "id": "e3be8dhuUWN9",
        "outputId": "5e35121e-1059-4c9f-eca0-cfa6c9386854"
      },
      "outputs": [
        {
          "name": "stdout",
          "output_type": "stream",
          "text": [
            "4\n"
          ]
        }
      ],
      "source": [
        "list=['sam','john','rash','antony']\n",
        "print(len(list))"
      ]
    },
    {
      "cell_type": "code",
      "execution_count": null,
      "metadata": {
        "colab": {
          "base_uri": "https://localhost:8080/"
        },
        "id": "ipZuLBLtUvcN",
        "outputId": "a2f64976-43a7-4c38-d45f-9dd698588d48"
      },
      "outputs": [
        {
          "name": "stdout",
          "output_type": "stream",
          "text": [
            "<class 'list'>\n"
          ]
        }
      ],
      "source": [
        "list=['sam','john','rash','antony']\n",
        "\n",
        "print(type(list))"
      ]
    },
    {
      "cell_type": "code",
      "execution_count": null,
      "metadata": {
        "colab": {
          "base_uri": "https://localhost:8080/",
          "height": 210
        },
        "id": "vSKdjjqmVBYv",
        "outputId": "e179a492-c75a-4d68-ed36-4306d1f10ff2"
      },
      "outputs": [
        {
          "ename": "TypeError",
          "evalue": "ignored",
          "output_type": "error",
          "traceback": [
            "\u001b[0;31m---------------------------------------------------------------------------\u001b[0m",
            "\u001b[0;31mTypeError\u001b[0m                                 Traceback (most recent call last)",
            "\u001b[0;32m<ipython-input-23-b6c8328767bf>\u001b[0m in \u001b[0;36m<cell line: 1>\u001b[0;34m()\u001b[0m\n\u001b[0;32m----> 1\u001b[0;31m \u001b[0mmylist\u001b[0m\u001b[0;34m=\u001b[0m \u001b[0mlist\u001b[0m\u001b[0;34m(\u001b[0m\u001b[0;34m(\u001b[0m\u001b[0;34m\"sam\"\u001b[0m\u001b[0;34m,\u001b[0m\u001b[0;34m\"john\"\u001b[0m\u001b[0;34m,\u001b[0m\u001b[0;34m\"rash\"\u001b[0m\u001b[0;34m)\u001b[0m\u001b[0;34m)\u001b[0m\u001b[0;34m\u001b[0m\u001b[0;34m\u001b[0m\u001b[0m\n\u001b[0m\u001b[1;32m      2\u001b[0m \u001b[0;34m\u001b[0m\u001b[0m\n\u001b[1;32m      3\u001b[0m \u001b[0mprint\u001b[0m\u001b[0;34m(\u001b[0m\u001b[0mmylist\u001b[0m\u001b[0;34m)\u001b[0m\u001b[0;34m\u001b[0m\u001b[0;34m\u001b[0m\u001b[0m\n",
            "\u001b[0;31mTypeError\u001b[0m: 'list' object is not callable"
          ]
        }
      ],
      "source": [
        "mylist= list((\"sam\",\"john\",\"rash\"))\n",
        "\n",
        "print(mylist)"
      ]
    },
    {
      "cell_type": "code",
      "execution_count": null,
      "metadata": {
        "colab": {
          "base_uri": "https://localhost:8080/"
        },
        "id": "rpOGd1uNWgwn",
        "outputId": "1cc7978f-e5c2-4038-f12f-2fa32f2b0b32"
      },
      "outputs": [
        {
          "name": "stdout",
          "output_type": "stream",
          "text": [
            "antony\n"
          ]
        }
      ],
      "source": [
        "list=['sam','john','rash','antony']\n",
        "\n",
        "print(list[-1])\n",
        "# access1"
      ]
    },
    {
      "cell_type": "code",
      "execution_count": null,
      "metadata": {
        "colab": {
          "base_uri": "https://localhost:8080/"
        },
        "id": "3l5Z6nPPXHcP",
        "outputId": "30e0dc03-52af-4ca1-ff60-fde7e231ac78"
      },
      "outputs": [
        {
          "name": "stdout",
          "output_type": "stream",
          "text": [
            "['john', 'rash', 'antony']\n"
          ]
        }
      ],
      "source": [
        "list=['sam','john','rash','antony','mount']\n",
        "\n",
        "print(list[1:4])\n",
        "# access2\n"
      ]
    },
    {
      "cell_type": "code",
      "execution_count": null,
      "metadata": {
        "colab": {
          "base_uri": "https://localhost:8080/"
        },
        "id": "1pNEeSqOXVdb",
        "outputId": "046b9ebe-2659-4f4f-cc4d-8f7f7ae28dda"
      },
      "outputs": [
        {
          "name": "stdout",
          "output_type": "stream",
          "text": [
            "['sam', 'john', 'rash']\n"
          ]
        }
      ],
      "source": [
        "list=['sam','john','rash','antony','mount']\n",
        "\n",
        "print(list[:3])\n",
        "# access3"
      ]
    },
    {
      "cell_type": "code",
      "execution_count": null,
      "metadata": {
        "colab": {
          "base_uri": "https://localhost:8080/"
        },
        "id": "YZrZe5QKYIoZ",
        "outputId": "cb83dfba-529e-4ce2-8a33-37f36177e8a4"
      },
      "outputs": [
        {
          "name": "stdout",
          "output_type": "stream",
          "text": [
            "['rash', 'antony', 'mount']\n"
          ]
        }
      ],
      "source": [
        "list=['sam','john','rash','antony','mount']\n",
        "\n",
        "print(list[2:])\n",
        "# access4"
      ]
    },
    {
      "cell_type": "code",
      "execution_count": null,
      "metadata": {
        "colab": {
          "base_uri": "https://localhost:8080/"
        },
        "id": "e4wDhGEOYQJg",
        "outputId": "a15f30a2-04c3-4a5d-ecf3-8ee1bb1af8cd"
      },
      "outputs": [
        {
          "name": "stdout",
          "output_type": "stream",
          "text": [
            "['john', 'rash', 'antony']\n"
          ]
        }
      ],
      "source": [
        "list=['sam','john','rash','antony','mount']\n",
        "\n",
        "print(list[-4:-1])\n",
        "# access5"
      ]
    },
    {
      "cell_type": "code",
      "execution_count": null,
      "metadata": {
        "colab": {
          "base_uri": "https://localhost:8080/"
        },
        "id": "ZWtYJo0FY3dw",
        "outputId": "176e5355-7417-49f9-fcbe-f2f3e6c0ac29"
      },
      "outputs": [
        {
          "name": "stdout",
          "output_type": "stream",
          "text": [
            "yes sam in list\n"
          ]
        }
      ],
      "source": [
        "list=['sam','john','rash','antony','mount']\n",
        "if \"sam\" in list:\n",
        "  print('yes sam in list')\n",
        "# access6"
      ]
    },
    {
      "cell_type": "code",
      "execution_count": null,
      "metadata": {
        "colab": {
          "base_uri": "https://localhost:8080/"
        },
        "id": "b1hEloL7Zi3z",
        "outputId": "89b4c3c7-83cd-4a59-b44e-6906028d1e9f"
      },
      "outputs": [
        {
          "name": "stdout",
          "output_type": "stream",
          "text": [
            "['sam', 'ab', 'abc', 'antony', 'mount']\n"
          ]
        }
      ],
      "source": [
        "list=['sam','john','rash','antony','mount']\n",
        "list[1:3]=['ab','abc']\n",
        "print(list)\n",
        "# change1"
      ]
    },
    {
      "cell_type": "code",
      "execution_count": null,
      "metadata": {
        "colab": {
          "base_uri": "https://localhost:8080/"
        },
        "id": "iYiIqkvMaRA5",
        "outputId": "74cd1dc5-f8a6-446a-a70f-06005eea5390"
      },
      "outputs": [
        {
          "name": "stdout",
          "output_type": "stream",
          "text": [
            "['sam', 'ab', 'abc', 'rash', 'antony', 'mount']\n"
          ]
        }
      ],
      "source": [
        "list=['sam','john','rash','antony','mount']\n",
        "list[1:2]=['ab','abc']\n",
        "print(list)\n",
        "# change2"
      ]
    },
    {
      "cell_type": "code",
      "execution_count": null,
      "metadata": {
        "colab": {
          "base_uri": "https://localhost:8080/"
        },
        "id": "-wL5xESRbKom",
        "outputId": "d498d943-04ec-4dad-ba6f-ee6bb374be4d"
      },
      "outputs": [
        {
          "name": "stdout",
          "output_type": "stream",
          "text": [
            "['sam', 'john', 'abc', 'antony']\n"
          ]
        }
      ],
      "source": [
        "list=['sam','john','rash','antony',]\n",
        "list[3:4]=['abc']\n",
        "print(list)\n",
        "# change3"
      ]
    },
    {
      "cell_type": "code",
      "execution_count": null,
      "metadata": {
        "colab": {
          "base_uri": "https://localhost:8080/"
        },
        "id": "7GWxQfcVcnXe",
        "outputId": "45e85037-a3cc-47cf-c8cd-1197851e3dc5"
      },
      "outputs": [
        {
          "name": "stdout",
          "output_type": "stream",
          "text": [
            "['sam', 'john', 'rash', 'antony', 'apple', 'banana', 'cherry']\n"
          ]
        }
      ],
      "source": [
        "list=['sam','john','rash','antony']\n",
        "list1 = [\"apple\", \"banana\", \"cherry\"]\n",
        "list.extend(list1)\n",
        "print(list)\n",
        "# add\n"
      ]
    },
    {
      "cell_type": "code",
      "execution_count": null,
      "metadata": {
        "colab": {
          "base_uri": "https://localhost:8080/"
        },
        "id": "ZcVuvjlSdvG0",
        "outputId": "960cdf68-4d70-4d38-9764-f7b15e667055"
      },
      "outputs": [
        {
          "name": "stdout",
          "output_type": "stream",
          "text": [
            "['sam', 'john', 'antony']\n"
          ]
        }
      ],
      "source": [
        "list=['sam','john','rash','antony',]\n",
        "list.pop(2)\n",
        "print(list)\n",
        "# remove1"
      ]
    },
    {
      "cell_type": "code",
      "execution_count": null,
      "metadata": {
        "colab": {
          "base_uri": "https://localhost:8080/"
        },
        "id": "hp0XQyCfeKoS",
        "outputId": "0854483e-6e20-4abe-91fc-0336636ee188"
      },
      "outputs": [
        {
          "name": "stdout",
          "output_type": "stream",
          "text": [
            "['sam', 'john', 'rash']\n"
          ]
        }
      ],
      "source": [
        "list=['sam','john','rash','antony',]\n",
        "list.pop()\n",
        "print(list)\n",
        "# remove2\n",
        "# remove last one"
      ]
    },
    {
      "cell_type": "code",
      "execution_count": null,
      "metadata": {
        "colab": {
          "base_uri": "https://localhost:8080/"
        },
        "id": "XYNyIVOPehIg",
        "outputId": "d84b6cc5-3f52-4fea-9668-db5a3860750f"
      },
      "outputs": [
        {
          "name": "stdout",
          "output_type": "stream",
          "text": [
            "cherry\n"
          ]
        }
      ],
      "source": [
        "list1=[\"apple\",\"banana\",\"cherry\"]\n",
        "print(list1[2])\n",
        "# task"
      ]
    },
    {
      "cell_type": "code",
      "execution_count": null,
      "metadata": {
        "colab": {
          "base_uri": "https://localhost:8080/"
        },
        "id": "XcDaw7c1e4sS",
        "outputId": "dc12cec6-b4c0-489d-e095-2c224fce8dde"
      },
      "outputs": [
        {
          "name": "stdout",
          "output_type": "stream",
          "text": [
            "['apple', 'mango', 'cherry']\n"
          ]
        }
      ],
      "source": [
        "list1=[\"apple\",\"banana\",\"cherry\"]\n",
        "list1[1]='mango'\n",
        "print(list1)\n",
        "# task"
      ]
    },
    {
      "cell_type": "code",
      "execution_count": null,
      "metadata": {
        "colab": {
          "base_uri": "https://localhost:8080/"
        },
        "id": "xlM4iQ0nfFvT",
        "outputId": "98743922-0b59-46bf-a389-92b4e1ec806c"
      },
      "outputs": [
        {
          "name": "stdout",
          "output_type": "stream",
          "text": [
            "['apple', 'banana']\n"
          ]
        }
      ],
      "source": [
        "list1=[\"apple\",\"banana\",\"cherry\"]\n",
        "del list1[2]\n",
        "print(list1)\n",
        "# task"
      ]
    },
    {
      "cell_type": "code",
      "execution_count": null,
      "metadata": {
        "colab": {
          "base_uri": "https://localhost:8080/"
        },
        "id": "jL2qYFngfYwt",
        "outputId": "f78ade2f-9ed8-44f6-cf9b-65ab58d08b62"
      },
      "outputs": [
        {
          "name": "stdout",
          "output_type": "stream",
          "text": [
            "['apple', 'banana', 'cherry', 'kiwi', 'orange']\n"
          ]
        }
      ],
      "source": [
        "list2=(\"kiwi\",\"orange\")\n",
        "list1=[\"apple\",\"banana\",\"cherry\"]\n",
        "list1.extend(li)\n",
        "print(list1)\n",
        "# task\n"
      ]
    },
    {
      "cell_type": "code",
      "execution_count": null,
      "metadata": {
        "colab": {
          "base_uri": "https://localhost:8080/"
        },
        "id": "mfVMSibMf3g0",
        "outputId": "bf47795d-a641-4254-85f2-d8ee8f37052a"
      },
      "outputs": [
        {
          "name": "stdout",
          "output_type": "stream",
          "text": [
            "false\n"
          ]
        }
      ],
      "source": [
        "list1=[19, 19, 15,2, 3, 5, 5, 2]\n",
        "a=list1.count(19)\n",
        "b=list1.count(5)\n",
        "if (a==2 and b>=3):\n",
        " print('true')\n",
        "else:\n",
        "  print('false')\n",
        "\n"
      ]
    },
    {
      "cell_type": "code",
      "execution_count": null,
      "metadata": {
        "colab": {
          "base_uri": "https://localhost:8080/"
        },
        "id": "upwgwoAnlQCf",
        "outputId": "4a0af06e-f96e-4eef-e8a1-1b0569a5d78c"
      },
      "outputs": [
        {
          "name": "stdout",
          "output_type": "stream",
          "text": [
            "2\n"
          ]
        }
      ],
      "source": [
        "list1=[19, 19, 15, 5, 3, 5, 5, 2]\n",
        "a=list1.count(19)\n",
        "print(a)"
      ]
    },
    {
      "cell_type": "code",
      "execution_count": null,
      "metadata": {
        "colab": {
          "base_uri": "https://localhost:8080/"
        },
        "id": "Pfmu1L6XnkjC",
        "outputId": "eae39020-20df-4022-bb37-2de5b62f32ef"
      },
      "outputs": [
        {
          "name": "stdout",
          "output_type": "stream",
          "text": [
            "{'kiwi', 'apple', 'orange', 'banana'}\n"
          ]
        }
      ],
      "source": [
        "list=['apple','banana','kiwi','orange','apple','kiwi','apple']\n",
        "a=set(list)\n",
        "print(a)"
      ]
    },
    {
      "cell_type": "code",
      "execution_count": null,
      "metadata": {
        "colab": {
          "base_uri": "https://localhost:8080/"
        },
        "id": "64SV0Y6QphNT",
        "outputId": "62681bbf-9dfb-4487-c898-3fb800d7bfbf"
      },
      "outputs": [
        {
          "name": "stdout",
          "output_type": "stream",
          "text": [
            "7\n"
          ]
        }
      ],
      "source": [
        "list=['apple','banana','kiwi','orange','apple','kiwi','apple']\n",
        "a=len(list)\n",
        "print(a)\n",
        "# length o string"
      ]
    },
    {
      "cell_type": "code",
      "source": [
        "# sort list\n",
        "mylist=['ab','gh','ef','cd']\n",
        "mylist.sort()\n",
        "print(mylist)\n",
        "mylist.sort(reverse=True)\n",
        "print(mylist)"
      ],
      "metadata": {
        "colab": {
          "base_uri": "https://localhost:8080/"
        },
        "id": "OAmGv6ONONvr",
        "outputId": "8243c8fe-d7c0-4303-e163-a2480bd20e2f"
      },
      "execution_count": null,
      "outputs": [
        {
          "output_type": "stream",
          "name": "stdout",
          "text": [
            "['ab', 'cd', 'ef', 'gh']\n",
            "['gh', 'ef', 'cd', 'ab']\n"
          ]
        }
      ]
    },
    {
      "cell_type": "code",
      "source": [
        "# copy list\n",
        "mylist=['apple','kiwi','mango']\n",
        "ab=mylist.copy()\n",
        "print(ab)\n",
        "a=list(mylist)\n",
        "print(a)\n"
      ],
      "metadata": {
        "colab": {
          "base_uri": "https://localhost:8080/"
        },
        "id": "C_9Ii-59PgKN",
        "outputId": "98230537-a958-45eb-fd26-92540e94e699"
      },
      "execution_count": null,
      "outputs": [
        {
          "output_type": "stream",
          "name": "stdout",
          "text": [
            "['apple', 'kiwi', 'mango']\n",
            "['apple', 'kiwi', 'mango']\n"
          ]
        }
      ]
    },
    {
      "cell_type": "code",
      "source": [
        "# join list\n",
        "myfru=[\"apple\",\"mango\",\"kiwi\"]\n",
        "mynum=[2,6,7]\n",
        "list1=myfru+mynum\n",
        "print(list1)\n",
        "list2=mynum+myfru\n",
        "print(list2)"
      ],
      "metadata": {
        "colab": {
          "base_uri": "https://localhost:8080/"
        },
        "id": "FVjL259_QOwz",
        "outputId": "aa25a7bc-976d-42bc-ac94-955133dd23f4"
      },
      "execution_count": null,
      "outputs": [
        {
          "output_type": "stream",
          "name": "stdout",
          "text": [
            "['apple', 'mango', 'kiwi', 2, 6, 7]\n",
            "[2, 6, 7, 'apple', 'mango', 'kiwi']\n"
          ]
        }
      ]
    },
    {
      "cell_type": "code",
      "source": [
        "# joint list\n",
        "# append\n",
        "\n",
        "list1=['a','b','c']\n",
        "list2=[1,2,3]\n",
        "for x in list2:\n",
        "  list1.append(x)\n",
        "print(list1)"
      ],
      "metadata": {
        "colab": {
          "base_uri": "https://localhost:8080/"
        },
        "id": "TPTrb8RqRIL8",
        "outputId": "8ef53421-04ff-4db0-893f-b42e98d28983"
      },
      "execution_count": null,
      "outputs": [
        {
          "output_type": "stream",
          "name": "stdout",
          "text": [
            "['a', 'b', 'c', 1, 2, 3]\n"
          ]
        }
      ]
    },
    {
      "cell_type": "code",
      "source": [
        "# joint list\n",
        "# extnd\n",
        "\n",
        "list1=['a','b','c']\n",
        "list2=[1,2,3]\n",
        "list1.extend(list2)\n",
        "print(list1)"
      ],
      "metadata": {
        "colab": {
          "base_uri": "https://localhost:8080/"
        },
        "id": "exrcsy1VWD_Z",
        "outputId": "2089df66-1e36-4819-d580-6f0e8a10a3aa"
      },
      "execution_count": null,
      "outputs": [
        {
          "output_type": "stream",
          "name": "stdout",
          "text": [
            "['a', 'b', 'c', 1, 2, 3]\n"
          ]
        }
      ]
    },
    {
      "cell_type": "code",
      "execution_count": null,
      "metadata": {
        "colab": {
          "base_uri": "https://localhost:8080/"
        },
        "id": "VmoUr4fgsUsT",
        "outputId": "a7ac70bc-b566-4748-fbdb-413560caf5a4"
      },
      "outputs": [
        {
          "name": "stdout",
          "output_type": "stream",
          "text": [
            "('apple', 'banana', 'cherry')\n",
            "3\n"
          ]
        }
      ],
      "source": [
        "# A tuple is a collection which is ordered and unchangeable.\n",
        "\n",
        "# Tuples are written with round brackets.\n",
        "# Tuple items are ordered, unchangeable, and allow duplicate values.\n",
        "mytuple = (\"apple\", \"banana\", \"cherry\")\n",
        "print(mytuple)\n",
        "print(len(mytuple))\n",
        "# len"
      ]
    },
    {
      "cell_type": "code",
      "execution_count": null,
      "metadata": {
        "colab": {
          "base_uri": "https://localhost:8080/"
        },
        "id": "tOQTi1W1tr5B",
        "outputId": "1111d13c-5ee1-4638-e855-d194130f59d5"
      },
      "outputs": [
        {
          "name": "stdout",
          "output_type": "stream",
          "text": [
            "<class 'tuple'>\n"
          ]
        }
      ],
      "source": [
        "# One item tuple, remember the comma\n",
        "tuple = (\"apple\",)\n",
        "print(type(tuple))\n",
        "\n"
      ]
    },
    {
      "cell_type": "code",
      "execution_count": null,
      "metadata": {
        "colab": {
          "base_uri": "https://localhost:8080/"
        },
        "id": "qZloqvblvIDS",
        "outputId": "23c21e15-1295-47b9-e1c0-b3985e086c7f"
      },
      "outputs": [
        {
          "name": "stdout",
          "output_type": "stream",
          "text": [
            "<class 'str'>\n"
          ]
        }
      ],
      "source": [
        "# not a tuple\n",
        "tuple = (\"apple\")\n",
        "print(type(tuple))"
      ]
    },
    {
      "cell_type": "code",
      "execution_count": null,
      "metadata": {
        "colab": {
          "base_uri": "https://localhost:8080/",
          "height": 245
        },
        "id": "D-VCYHGfvxhB",
        "outputId": "436128ae-77ba-4fad-f5f9-41f7f9e7c96c"
      },
      "outputs": [
        {
          "ename": "TypeError",
          "evalue": "ignored",
          "output_type": "error",
          "traceback": [
            "\u001b[0;31m---------------------------------------------------------------------------\u001b[0m",
            "\u001b[0;31mTypeError\u001b[0m                                 Traceback (most recent call last)",
            "\u001b[0;32m<ipython-input-11-c2b43e976e6d>\u001b[0m in \u001b[0;36m<cell line: 5>\u001b[0;34m()\u001b[0m\n\u001b[1;32m      3\u001b[0m \u001b[0;31m#It is also possible to use the tuple() constructor to make a tuple\u001b[0m\u001b[0;34m\u001b[0m\u001b[0;34m\u001b[0m\u001b[0m\n\u001b[1;32m      4\u001b[0m \u001b[0;34m\u001b[0m\u001b[0m\n\u001b[0;32m----> 5\u001b[0;31m \u001b[0mtp\u001b[0m \u001b[0;34m=\u001b[0m \u001b[0mtuple\u001b[0m\u001b[0;34m(\u001b[0m\u001b[0;34m(\u001b[0m\u001b[0;34m\"apple\"\u001b[0m\u001b[0;34m,\u001b[0m \u001b[0;34m\"banana\"\u001b[0m\u001b[0;34m,\u001b[0m \u001b[0;34m\"cherry\"\u001b[0m\u001b[0;34m)\u001b[0m\u001b[0;34m)\u001b[0m\u001b[0;34m\u001b[0m\u001b[0;34m\u001b[0m\u001b[0m\n\u001b[0m\u001b[1;32m      6\u001b[0m \u001b[0;31m#note the double round-brackets\u001b[0m\u001b[0;34m\u001b[0m\u001b[0;34m\u001b[0m\u001b[0m\n\u001b[1;32m      7\u001b[0m \u001b[0mprint\u001b[0m\u001b[0;34m(\u001b[0m\u001b[0mtp\u001b[0m\u001b[0;34m)\u001b[0m\u001b[0;34m\u001b[0m\u001b[0;34m\u001b[0m\u001b[0m\n",
            "\u001b[0;31mTypeError\u001b[0m: 'str' object is not callable"
          ]
        }
      ],
      "source": [
        "#The tuple() Constructor\n",
        "\n",
        "#It is also possible to use the tuple() constructor to make a tuple\n",
        "\n",
        "tp = tuple((\"apple\", \"banana\", \"cherry\"))\n",
        "#note the double round-brackets\n",
        "print(tp)"
      ]
    },
    {
      "cell_type": "code",
      "execution_count": null,
      "metadata": {
        "colab": {
          "base_uri": "https://localhost:8080/"
        },
        "id": "PSAP2qwPw0bF",
        "outputId": "79185db8-03ec-4bca-e2ac-8ed3f46b1d3d"
      },
      "outputs": [
        {
          "name": "stdout",
          "output_type": "stream",
          "text": [
            "banana\n",
            "cherry\n"
          ]
        }
      ],
      "source": [
        "# Access Tuple Items\n",
        "\n",
        "mytuple = (\"apple\", \"banana\", \"cherry\")\n",
        "print(mytuple[1])\n",
        "print(mytuple[-1])\n"
      ]
    },
    {
      "cell_type": "code",
      "execution_count": null,
      "metadata": {
        "colab": {
          "base_uri": "https://localhost:8080/"
        },
        "id": "1quA0Gfyxncx",
        "outputId": "eb63a6b5-468e-4a71-82bb-877b29dfbd1e"
      },
      "outputs": [
        {
          "name": "stdout",
          "output_type": "stream",
          "text": [
            "('cherry', 'orange', 'kiwi')\n",
            "('apple', 'banana', 'cherry', 'orange')\n",
            "('cherry', 'orange', 'kiwi', 'melon', 'mango')\n"
          ]
        }
      ],
      "source": [
        "# Tuple\n",
        "# Range of Indexes\n",
        "# You can specify a range of indexes by specifying where to start and where to end the range.\n",
        "\n",
        "# When specifying a range, the return value will be a new tuple with the specified items.\n",
        "\n",
        "a=(\"apple\", \"banana\", \"cherry\", \"orange\", \"kiwi\", \"melon\", \"mango\")\n",
        "print(a[2:5])\n",
        "\n",
        "# By leaving out the start value, the range will start at the first item:\n",
        "\n",
        "print(a[:4])\n",
        "\n",
        "# By leaving out the end value, the range will go on to the end of the tuple:\n",
        "\n",
        "print(a[2:])\n",
        "\n",
        "\n",
        "\n",
        "\n"
      ]
    },
    {
      "cell_type": "code",
      "execution_count": null,
      "metadata": {
        "colab": {
          "base_uri": "https://localhost:8080/"
        },
        "id": "QfWTiJ0ozV1U",
        "outputId": "33ee64a0-7bde-447c-b446-45009be9ada1"
      },
      "outputs": [
        {
          "name": "stdout",
          "output_type": "stream",
          "text": [
            "Yes, 'apple' is in the fruits tuple\n"
          ]
        }
      ],
      "source": [
        "# Check if Item Exists\n",
        "\n",
        "# To determine if a specified item is present in a tuple use the in keyword:\n",
        "\n",
        "a=(\"apple\", \"banana\", \"cherry\")\n",
        "if \"apple\" in a:\n",
        "  print(\"Yes, 'apple' is in the fruits tuple\")"
      ]
    },
    {
      "cell_type": "code",
      "execution_count": null,
      "metadata": {
        "colab": {
          "base_uri": "https://localhost:8080/",
          "height": 245
        },
        "id": "UwsZGfznz5KZ",
        "outputId": "b122d721-b52d-4fd3-88d5-7a2a5cd98d81"
      },
      "outputs": [
        {
          "ename": "TypeError",
          "evalue": "ignored",
          "output_type": "error",
          "traceback": [
            "\u001b[0;31m---------------------------------------------------------------------------\u001b[0m",
            "\u001b[0;31mTypeError\u001b[0m                                 Traceback (most recent call last)",
            "\u001b[0;32m<ipython-input-22-e6930d5aa6a6>\u001b[0m in \u001b[0;36m<cell line: 10>\u001b[0;34m()\u001b[0m\n\u001b[1;32m      8\u001b[0m \u001b[0;34m\u001b[0m\u001b[0m\n\u001b[1;32m      9\u001b[0m \u001b[0mx\u001b[0m \u001b[0;34m=\u001b[0m \u001b[0;34m(\u001b[0m\u001b[0;34m\"apple\"\u001b[0m\u001b[0;34m,\u001b[0m \u001b[0;34m\"banana\"\u001b[0m\u001b[0;34m,\u001b[0m \u001b[0;34m\"cherry\"\u001b[0m\u001b[0;34m)\u001b[0m\u001b[0;34m\u001b[0m\u001b[0;34m\u001b[0m\u001b[0m\n\u001b[0;32m---> 10\u001b[0;31m \u001b[0ma\u001b[0m\u001b[0;34m=\u001b[0m\u001b[0mlist\u001b[0m\u001b[0;34m[\u001b[0m\u001b[0mx\u001b[0m\u001b[0;34m]\u001b[0m\u001b[0;34m\u001b[0m\u001b[0;34m\u001b[0m\u001b[0m\n\u001b[0m\u001b[1;32m     11\u001b[0m \u001b[0mprint\u001b[0m\u001b[0;34m(\u001b[0m\u001b[0ma\u001b[0m\u001b[0;34m)\u001b[0m\u001b[0;34m\u001b[0m\u001b[0;34m\u001b[0m\u001b[0m\n\u001b[1;32m     12\u001b[0m \u001b[0;31m# a[1]=\"kiwi\"\u001b[0m\u001b[0;34m\u001b[0m\u001b[0;34m\u001b[0m\u001b[0m\n",
            "\u001b[0;31mTypeError\u001b[0m: list indices must be integers or slices, not tuple"
          ]
        }
      ],
      "source": [
        "# Python - Update Tuples->\n",
        "\n",
        "# Tuples are unchangeable, meaning that you cannot change, add, or remove items once the tuple is created\n",
        "\n",
        "# Change Tuple Values->\n",
        "\n",
        "# You can convert the tuple into a list, change the list, and convert the list back into a tuple.\n",
        "\n",
        "x = (\"apple\", \"banana\", \"cherry\")\n",
        "a=list(x)\n",
        "print(a)\n",
        "# a[1]=\"kiwi\"\n",
        "# x= tuple(a)\n",
        "\n",
        "# print(x)\n",
        "\n"
      ]
    },
    {
      "cell_type": "code",
      "execution_count": null,
      "metadata": {
        "colab": {
          "base_uri": "https://localhost:8080/"
        },
        "id": "vgD3_qu82vsZ",
        "outputId": "7c37f60d-33bc-4bcb-b4e8-b5d65c1650d4"
      },
      "outputs": [
        {
          "name": "stdout",
          "output_type": "stream",
          "text": [
            "('apple', 'banana', 'cherry', 'orange')\n"
          ]
        }
      ],
      "source": [
        "# Add Items\n",
        "\n",
        "# Since tuples are immutable, they do not have a built-in append() method.\n",
        "# you can convert it into a list, add your item(s), and convert it back into a tuple.\n",
        "\n",
        "mytuple = (\"apple\", \"banana\", \"cherry\")\n",
        "y = list(mytuple)\n",
        "y.append(\"orange\")\n",
        "mytuple = tuple(y)\n",
        "print(mytuple)\n",
        "\n"
      ]
    },
    {
      "cell_type": "code",
      "execution_count": null,
      "metadata": {
        "colab": {
          "base_uri": "https://localhost:8080/"
        },
        "id": "w10ZnyMJtoQY",
        "outputId": "037b1f3e-2c78-49d8-8917-9e8ac9f4f2a0"
      },
      "outputs": [
        {
          "name": "stdout",
          "output_type": "stream",
          "text": [
            "('apple', 'banana', 'cherry', 'orange')\n"
          ]
        }
      ],
      "source": [
        "# Add tuple to a tuple\n",
        "fruits = (\"apple\", \"banana\", \"cherry\")\n",
        "y = (\"orange\",)\n",
        "fruits += y\n",
        "\n",
        "print(fruits)"
      ]
    },
    {
      "cell_type": "code",
      "execution_count": null,
      "metadata": {
        "colab": {
          "base_uri": "https://localhost:8080/",
          "height": 227
        },
        "id": "fmobVJhCudyd",
        "outputId": "488b3a4a-d007-47d5-f644-1313e0553d24"
      },
      "outputs": [
        {
          "ename": "TypeError",
          "evalue": "ignored",
          "output_type": "error",
          "traceback": [
            "\u001b[0;31m---------------------------------------------------------------------------\u001b[0m",
            "\u001b[0;31mTypeError\u001b[0m                                 Traceback (most recent call last)",
            "\u001b[0;32m<ipython-input-8-308aeabd9dc3>\u001b[0m in \u001b[0;36m<cell line: 8>\u001b[0;34m()\u001b[0m\n\u001b[1;32m      6\u001b[0m \u001b[0my\u001b[0m \u001b[0;34m=\u001b[0m \u001b[0mlist\u001b[0m\u001b[0;34m(\u001b[0m\u001b[0mmytuple\u001b[0m\u001b[0;34m)\u001b[0m\u001b[0;34m\u001b[0m\u001b[0;34m\u001b[0m\u001b[0m\n\u001b[1;32m      7\u001b[0m \u001b[0my\u001b[0m\u001b[0;34m.\u001b[0m\u001b[0mremove\u001b[0m\u001b[0;34m(\u001b[0m\u001b[0;34m\"apple\"\u001b[0m\u001b[0;34m)\u001b[0m\u001b[0;34m\u001b[0m\u001b[0;34m\u001b[0m\u001b[0m\n\u001b[0;32m----> 8\u001b[0;31m \u001b[0mmytuple\u001b[0m \u001b[0;34m=\u001b[0m \u001b[0mtuple\u001b[0m\u001b[0;34m(\u001b[0m\u001b[0my\u001b[0m\u001b[0;34m)\u001b[0m\u001b[0;34m\u001b[0m\u001b[0;34m\u001b[0m\u001b[0m\n\u001b[0m\u001b[1;32m      9\u001b[0m \u001b[0mprint\u001b[0m\u001b[0;34m(\u001b[0m\u001b[0mmytuple\u001b[0m\u001b[0;34m)\u001b[0m\u001b[0;34m\u001b[0m\u001b[0;34m\u001b[0m\u001b[0m\n",
            "\u001b[0;31mTypeError\u001b[0m: 'tuple' object is not callable"
          ]
        }
      ],
      "source": [
        "# Remove Items\n",
        "# You cannot remove items in a tuple,bcz Tuples are unchangeable\n",
        "# Convert the tuple into a list, remove \"apple\", and convert it back into a tuple:\n",
        "\n",
        "mytuple = (\"apple\", \"banana\", \"cherry\")\n",
        "y = list(mytuple)\n",
        "y.remove(\"apple\")\n",
        "mytuple = tuple(y)\n",
        "print(mytuple)"
      ]
    },
    {
      "cell_type": "code",
      "execution_count": null,
      "metadata": {
        "colab": {
          "base_uri": "https://localhost:8080/"
        },
        "id": "tMW7w1tv6wil",
        "outputId": "4c50860e-2b43-4acc-c6b7-8175ea3865c7"
      },
      "outputs": [
        {
          "name": "stdout",
          "output_type": "stream",
          "text": [
            "apple\n",
            "banana\n",
            "cherry\n"
          ]
        }
      ],
      "source": [
        "# Unpacking a Tuple\n",
        "# When we create a tuple, we normally assign values to it. This is called \"packing\" a tuple:\n",
        "# But, in Python, we are also allowed to extract the values back into variables. This is called \"unpacking\":\n",
        "\n",
        "fruits = (\"apple\", \"banana\", \"cherry\")\n",
        "\n",
        "(green, yellow, red) = fruits\n",
        "\n",
        "print(green)\n",
        "print(yellow)\n",
        "print(red)\n",
        "\n",
        "# Note: The number of variables must match the number of values in the tuple,\n",
        "if not, you must use an asterisk to collect the remaining values as a list."
      ]
    },
    {
      "cell_type": "code",
      "execution_count": null,
      "metadata": {
        "colab": {
          "base_uri": "https://localhost:8080/"
        },
        "id": "N-XYvd1U7cTW",
        "outputId": "e5bb30fc-e360-4f8a-f676-59185deee1ba"
      },
      "outputs": [
        {
          "name": "stdout",
          "output_type": "stream",
          "text": [
            "apple\n",
            "banana\n",
            "['cherry', 'strawberry', 'raspberry']\n"
          ]
        }
      ],
      "source": [
        "# Unpacking a Tuple\n",
        "\n",
        "# Using Asterisk*\n",
        "\n",
        "# If the number of variables is less than the number of values,\n",
        "# you can add an * to the variable name and the values will be assigned to the variable as a list:\n",
        "\n",
        "fruits = (\"apple\", \"banana\", \"cherry\", \"strawberry\", \"raspberry\")\n",
        "\n",
        "(green, yellow, *red) = fruits\n",
        "\n",
        "print(green)\n",
        "print(yellow)\n",
        "print(red)\n",
        "\n",
        "# If the asterisk is added to another variable name than the last,\n",
        "# Python will assign values to the variable until the number of values left matches the number of variables left.\n",
        "\n"
      ]
    },
    {
      "cell_type": "code",
      "execution_count": null,
      "metadata": {
        "colab": {
          "base_uri": "https://localhost:8080/"
        },
        "id": "RifFHq2c8g-1",
        "outputId": "2b1b45b0-7b52-4e69-81f2-7eb1d3d6b61a"
      },
      "outputs": [
        {
          "name": "stdout",
          "output_type": "stream",
          "text": [
            "apple\n",
            "['mango', 'papaya', 'pineapple']\n",
            "cherry\n"
          ]
        }
      ],
      "source": [
        "# If the asterisk is added to another variable name than the last,\n",
        "# Python will assign values to the variable until the number of values left matches the number of variables left.\n",
        "\n",
        "fruits = (\"apple\", \"mango\", \"papaya\", \"pineapple\", \"cherry\")\n",
        "\n",
        "(green, *tropic, red) = fruits\n",
        "\n",
        "print(green)\n",
        "print(tropic)\n",
        "print(red)\n"
      ]
    },
    {
      "cell_type": "code",
      "source": [
        "# Join Two Tuples\n",
        "\n",
        "# To join two or more tuples you can use the + operator:\n",
        "tuple1 = (\"a\", \"b\" , \"c\")\n",
        "tuple2 = (1, 2, 3)\n",
        "\n",
        "tuple3 = tuple1 + tuple2\n",
        "print(tuple3)"
      ],
      "metadata": {
        "colab": {
          "base_uri": "https://localhost:8080/"
        },
        "id": "BexDUQJeirF_",
        "outputId": "41d8f890-4a34-4eb0-a6ff-8c0422b05cb7"
      },
      "execution_count": null,
      "outputs": [
        {
          "output_type": "stream",
          "name": "stdout",
          "text": [
            "('a', 'b', 'c', 1, 2, 3)\n"
          ]
        }
      ]
    },
    {
      "cell_type": "code",
      "source": [
        "# Multiply Tuples\n",
        "# If you want to multiply the content of a tuple a given number of times, you can use the * operator:\n",
        "\n",
        "fruits = (\"apple\", \"banana\", \"cherry\")\n",
        "mytuple = fruits * 2\n",
        "\n",
        "print(mytuple)"
      ],
      "metadata": {
        "colab": {
          "base_uri": "https://localhost:8080/"
        },
        "id": "ou6L-djli-_l",
        "outputId": "4d7039cc-ab65-4ef1-e815-e5a8727103b4"
      },
      "execution_count": null,
      "outputs": [
        {
          "output_type": "stream",
          "name": "stdout",
          "text": [
            "('apple', 'banana', 'cherry', 'apple', 'banana', 'cherry')\n"
          ]
        }
      ]
    },
    {
      "cell_type": "code",
      "execution_count": null,
      "metadata": {
        "colab": {
          "base_uri": "https://localhost:8080/"
        },
        "id": "lmb4BsdL8weE",
        "outputId": "f1bb5e78-9523-4840-fabd-332f6f44f875"
      },
      "outputs": [
        {
          "name": "stdout",
          "output_type": "stream",
          "text": [
            "{'cherry', 'apple', 'banana'}\n"
          ]
        }
      ],
      "source": [
        "# Python Sets\n",
        "\n",
        "# unordered, unchangeable*, and unindexed.\n",
        "# Note: Set items are unchangeable, but you can remove items and add new items.\n",
        "\n",
        "myset = {\"apple\", \"banana\", \"cherry\"}\n",
        "print(myset)\n",
        "\n",
        "#Note: Sets are unordered, so you cannot be sure in which order the items will appear."
      ]
    },
    {
      "cell_type": "code",
      "execution_count": null,
      "metadata": {
        "colab": {
          "base_uri": "https://localhost:8080/"
        },
        "id": "lB7fNcli92yF",
        "outputId": "ded89c78-5755-42fb-d89c-d6d37f51c7ac"
      },
      "outputs": [
        {
          "name": "stdout",
          "output_type": "stream",
          "text": [
            "{'cherry', 'apple', 'banana'}\n"
          ]
        }
      ],
      "source": [
        "# Python Sets\n",
        "\n",
        "# Duplicates Not Allowed\n",
        "# Note:1. The values True and 1 are considered the same value in sets, and are treated as duplicates:\n",
        "# 2. The values False and 0 are considered the same value in sets, and are treated as duplicates:\n",
        "# Get the Length of a Set-->>   len() function.\n",
        "# The set() Constructor->>\n",
        "# It is also possible to use the set() constructor to make a set.\n",
        "\n",
        "thisset = set((\"apple\", \"banana\", \"cherry\"))\n",
        "print(thisset)\n",
        "\n",
        "# note the double round-brackets"
      ]
    },
    {
      "cell_type": "code",
      "execution_count": null,
      "metadata": {
        "colab": {
          "base_uri": "https://localhost:8080/"
        },
        "id": "lYcKbjLj_JAH",
        "outputId": "7a46bdab-82b6-4b96-99f5-bf7dd68f1174"
      },
      "outputs": [
        {
          "name": "stdout",
          "output_type": "stream",
          "text": [
            "cherry\n",
            "apple\n",
            "banana\n"
          ]
        }
      ],
      "source": [
        "# Python Sets\n",
        "# Access Set Items->>\n",
        "# You cannot access items in a set by referring to an index or a key.\n",
        "\n",
        "# you can loop through the set items using a for loop,\n",
        "# or ask if a specified value is present in a set, by using the in keyword.\n",
        "\n",
        "myset = {\"apple\", \"banana\", \"cherry\"}\n",
        "\n",
        "for x in myset:\n",
        "  print(x)"
      ]
    },
    {
      "cell_type": "code",
      "execution_count": null,
      "metadata": {
        "colab": {
          "base_uri": "https://localhost:8080/"
        },
        "id": "znkoUggp_835",
        "outputId": "75efd4ad-f325-40f6-cd90-ec705bed7827"
      },
      "outputs": [
        {
          "name": "stdout",
          "output_type": "stream",
          "text": [
            "{'cherry', 'apple', 'banana', 'orange'}\n"
          ]
        }
      ],
      "source": [
        "# Python Sets\n",
        "\n",
        "# Change Items->>\n",
        "# Once a set is created, you cannot change its items, but you can add new items.\n",
        "\n",
        "# To add one item to a set use the add() method.\n",
        "\n",
        "myset = {\"apple\", \"banana\", \"cherry\"}\n",
        "\n",
        "myset.add(\"orange\")\n",
        "\n",
        "print(myset)\n"
      ]
    },
    {
      "cell_type": "code",
      "execution_count": null,
      "metadata": {
        "colab": {
          "base_uri": "https://localhost:8080/"
        },
        "id": "0O1imw8JC0iB",
        "outputId": "96ffd856-b1b1-4e7a-cab6-305c331731e2"
      },
      "outputs": [
        {
          "name": "stdout",
          "output_type": "stream",
          "text": [
            "{'apple', 'banana', 'mango', 'pineapple', 'papaya', 'cherry'}\n",
            "{'kiwi', 'apple', 'banana', 'cherry', 'orange'}\n"
          ]
        }
      ],
      "source": [
        "# Python Sets\n",
        "\n",
        "# Add Sets->>\n",
        "# To add items from another set into the current set, use the update() method\n",
        "\n",
        "set1 = {\"apple\", \"banana\", \"cherry\"}\n",
        "set2 = {\"pineapple\", \"mango\", \"papaya\"}\n",
        "\n",
        "set1.update(set2)\n",
        "\n",
        "print(set1)\n",
        "\n",
        "# The object in the update() method does not have to be a set,\n",
        "# it can be any iterable object (tuples, lists, dictionaries etc.).\n",
        "\n",
        "myset = {\"apple\", \"banana\", \"cherry\"}\n",
        "mylist = [\"kiwi\", \"orange\"]\n",
        "\n",
        "myset.update(mylist)\n",
        "\n",
        "print(myset)\n"
      ]
    },
    {
      "cell_type": "code",
      "execution_count": null,
      "metadata": {
        "colab": {
          "base_uri": "https://localhost:8080/"
        },
        "id": "mQ0gVjlyEQ7j",
        "outputId": "6f2d1b25-6c74-4421-e108-3b940750cd71"
      },
      "outputs": [
        {
          "name": "stdout",
          "output_type": "stream",
          "text": [
            "{'cherry', 'apple'}\n",
            "{'cherry', 'apple'}\n",
            "cherry\n",
            "{'apple'}\n"
          ]
        }
      ],
      "source": [
        "# Python Sets\n",
        "\n",
        "# Python - Remove Set Items-->>\n",
        "# To remove an item in a set, use the remove(), or the discard() method.\n",
        "\n",
        "myset = {\"apple\", \"banana\", \"cherry\"}\n",
        "\n",
        "# Remove \"banana\" by using the remove() method:\n",
        "\n",
        "myset.remove(\"banana\")\n",
        "\n",
        "print(myset)\n",
        "\n",
        "# Note: If the item to remove does not exist, remove() will raise an error.\n",
        "\n",
        "# Remove \"banana\" by using the discard() method:\n",
        "\n",
        "myset.discard(\"banana\")\n",
        "\n",
        "print(myset)\n",
        "\n",
        "# Note: If the item to remove does not exist, discard() will NOT raise an error.\n",
        "\n",
        "# Remove a random item by using the pop() method:\n",
        "\n",
        "# You can also use the pop() method to remove an item, but this method will remove a random item,\n",
        "# so you cannot be sure what item that gets removed.\n",
        "\n",
        "# The return value of the pop() method is the removed item.\n",
        "\n",
        "x = myset.pop()\n",
        "\n",
        "print(x)\n",
        "\n",
        "print(myset)"
      ]
    },
    {
      "cell_type": "code",
      "execution_count": null,
      "metadata": {
        "colab": {
          "base_uri": "https://localhost:8080/",
          "height": 227
        },
        "id": "K6oNAGXeGMuH",
        "outputId": "8394535e-5d0b-4a75-bf76-5e21cce26054"
      },
      "outputs": [
        {
          "name": "stdout",
          "output_type": "stream",
          "text": [
            "set()\n"
          ]
        },
        {
          "ename": "NameError",
          "evalue": "ignored",
          "output_type": "error",
          "traceback": [
            "\u001b[0;31m---------------------------------------------------------------------------\u001b[0m",
            "\u001b[0;31mNameError\u001b[0m                                 Traceback (most recent call last)",
            "\u001b[0;32m<ipython-input-29-b116ad9f94ae>\u001b[0m in \u001b[0;36m<cell line: 17>\u001b[0;34m()\u001b[0m\n\u001b[1;32m     15\u001b[0m \u001b[0;32mdel\u001b[0m \u001b[0mset1\u001b[0m\u001b[0;34m\u001b[0m\u001b[0;34m\u001b[0m\u001b[0m\n\u001b[1;32m     16\u001b[0m \u001b[0;34m\u001b[0m\u001b[0m\n\u001b[0;32m---> 17\u001b[0;31m \u001b[0mprint\u001b[0m\u001b[0;34m(\u001b[0m\u001b[0mset1\u001b[0m\u001b[0;34m)\u001b[0m\u001b[0;34m\u001b[0m\u001b[0;34m\u001b[0m\u001b[0m\n\u001b[0m",
            "\u001b[0;31mNameError\u001b[0m: name 'set1' is not defined"
          ]
        }
      ],
      "source": [
        "# Python Sets\n",
        "\n",
        "# The clear() method empties the set:\n",
        "\n",
        "aset = {\"apple\", \"banana\", \"cherry\"}\n",
        "\n",
        "aset.clear()\n",
        "\n",
        "print(aset)\n",
        "\n",
        "# The del keyword will delete the set completely:\n",
        "\n",
        "set1 = {\"apple1\", \"banana2\", \"cherry3\"}\n",
        "\n",
        "del set1\n",
        "\n",
        "print(set1)\n",
        "#this will raise an error because the set no longer exists\n"
      ]
    },
    {
      "cell_type": "code",
      "execution_count": null,
      "metadata": {
        "id": "1X9rTQGhHk-K"
      },
      "outputs": [],
      "source": [
        "# Python Sets\n",
        "\n",
        "# Set Methods->>\n",
        "# Python has a set of built-in methods that you can use on sets.\n",
        "\n",
        "# difference()\tReturns a set containing the difference between two or more sets\n",
        "\n",
        "# difference_update()\tRemoves the items in this set that are also included in another, specified set\n",
        "\n",
        "# isdisjoint()\tReturns whether two sets have a intersection or not\n",
        "\n",
        "# issubset()\tReturns whether another set contains this set or not\n",
        "\n",
        "# issuperset()\tReturns whether this set contains another set or not"
      ]
    },
    {
      "cell_type": "code",
      "execution_count": null,
      "metadata": {
        "colab": {
          "base_uri": "https://localhost:8080/",
          "height": 279
        },
        "id": "Qqglv-sVJobE",
        "outputId": "98f5f80c-0c4f-43ea-b1b6-87271e0fc801"
      },
      "outputs": [
        {
          "name": "stdout",
          "output_type": "stream",
          "text": [
            "{'brand': 'Ford', 'model': 'Mustang', 'year': 1964}\n",
            "Ford\n"
          ]
        },
        {
          "ename": "TypeError",
          "evalue": "ignored",
          "output_type": "error",
          "traceback": [
            "\u001b[0;31m---------------------------------------------------------------------------\u001b[0m",
            "\u001b[0;31mTypeError\u001b[0m                                 Traceback (most recent call last)",
            "\u001b[0;32m<ipython-input-33-914f80483037>\u001b[0m in \u001b[0;36m<cell line: 21>\u001b[0;34m()\u001b[0m\n\u001b[1;32m     19\u001b[0m \u001b[0;31m# possible to use the dict() constructor to make a dictionary.\u001b[0m\u001b[0;34m\u001b[0m\u001b[0;34m\u001b[0m\u001b[0m\n\u001b[1;32m     20\u001b[0m \u001b[0;34m\u001b[0m\u001b[0m\n\u001b[0;32m---> 21\u001b[0;31m \u001b[0mdict1\u001b[0m \u001b[0;34m=\u001b[0m \u001b[0mdict\u001b[0m\u001b[0;34m(\u001b[0m\u001b[0mname\u001b[0m \u001b[0;34m=\u001b[0m \u001b[0;34m\"John\"\u001b[0m\u001b[0;34m,\u001b[0m \u001b[0mage\u001b[0m \u001b[0;34m=\u001b[0m \u001b[0;36m36\u001b[0m\u001b[0;34m,\u001b[0m \u001b[0mcountry\u001b[0m \u001b[0;34m=\u001b[0m \u001b[0;34m\"Norway\"\u001b[0m\u001b[0;34m)\u001b[0m\u001b[0;34m\u001b[0m\u001b[0;34m\u001b[0m\u001b[0m\n\u001b[0m\u001b[1;32m     22\u001b[0m \u001b[0;34m\u001b[0m\u001b[0m\n\u001b[1;32m     23\u001b[0m \u001b[0mprint\u001b[0m\u001b[0;34m(\u001b[0m\u001b[0mdict1\u001b[0m\u001b[0;34m)\u001b[0m\u001b[0;34m\u001b[0m\u001b[0;34m\u001b[0m\u001b[0m\n",
            "\u001b[0;31mTypeError\u001b[0m: 'dict' object is not callable"
          ]
        }
      ],
      "source": [
        "# Dictionary\n",
        "\n",
        "# Dictionaries are used to store data values in key:value pairs.\n",
        "\n",
        "# ordered*, changeable and do not allow duplicates->>>\n",
        "# As of Python version 3.7, dictionaries are ordered. In Python 3.6 and earlier, dictionaries are unordered.\n",
        "\n",
        "dict = {\n",
        "  \"brand\": \"Ford\",\n",
        "  \"model\": \"Mustang\",\n",
        "  \"year\": 1964\n",
        "}\n",
        "print(dict)\n",
        "\n",
        "# Dictionary items are presented in key:value pairs, and can be referred to by using the key name.\n",
        "\n",
        "print(dict[\"brand\"])\n",
        "\n",
        "# possible to use the dict() constructor to make a dictionary.\n",
        "\n",
        "dict1 = dict(name = \"John\", age = 36, country = \"Norway\")\n",
        "\n",
        "print(dict1)"
      ]
    },
    {
      "cell_type": "code",
      "execution_count": null,
      "metadata": {
        "colab": {
          "base_uri": "https://localhost:8080/"
        },
        "id": "d98rV-yDK2Ad",
        "outputId": "3087b034-210e-4ec5-ef67-1c8ff5cd8ac3"
      },
      "outputs": [
        {
          "name": "stdout",
          "output_type": "stream",
          "text": [
            "{'brand': 'Ford', 'model': 'Mustang', 'year': 2020}\n"
          ]
        }
      ],
      "source": [
        "# Dictionary\n",
        "\n",
        "# Duplicates Not Allowed\n",
        "# Dictionaries cannot have two items with the same key:\n",
        "\n",
        "dict = {\n",
        "  \"brand\": \"Ford\",\n",
        "  \"model\": \"Mustang\",\n",
        "  \"year\": 1964,\n",
        "  \"year\": 2020\n",
        "}\n",
        "print(dict)\n",
        "\n",
        "# Duplicate values will overwrite existing values:\n",
        "\n"
      ]
    },
    {
      "cell_type": "code",
      "execution_count": null,
      "metadata": {
        "colab": {
          "base_uri": "https://localhost:8080/"
        },
        "id": "nbX8Ia5WMRWO",
        "outputId": "cfad116d-9d83-4f50-c1cc-94e0e817ae32"
      },
      "outputs": [
        {
          "name": "stdout",
          "output_type": "stream",
          "text": [
            "Mustang\n",
            "1964\n"
          ]
        }
      ],
      "source": [
        "# Dictionary\n",
        "\n",
        "# Accessing Items->>\n",
        "# by referring to its key name, inside square brackets:\n",
        "\n",
        "thedict = {\n",
        "  \"brand\": \"Ford\",\n",
        "  \"model\": \"Mustang\",\n",
        "  \"year\": 1964\n",
        "}\n",
        "x = thedict[\"model\"]\n",
        "print(x)\n",
        "\n",
        "# There is also a method called get() that will give you the same result:\n",
        "y= thedict.get(\"year\")\n",
        "print(y)\n"
      ]
    },
    {
      "cell_type": "code",
      "execution_count": null,
      "metadata": {
        "colab": {
          "base_uri": "https://localhost:8080/"
        },
        "id": "Ovwh4eOMNJWq",
        "outputId": "1e5e5fd9-4f2e-43f1-b563-7c41752bef27"
      },
      "outputs": [
        {
          "name": "stdout",
          "output_type": "stream",
          "text": [
            "dict_keys(['brand', 'model', 'year'])\n",
            "dict_keys(['brand', 'model', 'year', 'color'])\n"
          ]
        }
      ],
      "source": [
        "# Dictionary\n",
        "\n",
        "# Get Keys\n",
        "# The keys() method will return a list of all the keys in the dictionary.\n",
        "\n",
        "dict1 = {\n",
        "  \"brand\": \"Ford\",\n",
        "  \"model\": \"Mustang\",\n",
        "  \"year\": 1964\n",
        "}\n",
        "\n",
        "x = dict1.keys()\n",
        "\n",
        "print(x)\n",
        "\n",
        "# The list of the keys is a view of the dictionary,\n",
        "# meaning that any changes done to the dictionary will be reflected in the keys list.\n",
        "# Add a new item to the original dictionary, and see that the keys list gets updated as well:\n",
        "\n",
        "dict1[\"color\"] = \"white\"\n",
        "print(x)"
      ]
    },
    {
      "cell_type": "code",
      "execution_count": null,
      "metadata": {
        "colab": {
          "base_uri": "https://localhost:8080/"
        },
        "id": "-oT0i2tLOVhb",
        "outputId": "117c02a7-fb05-4bd5-8688-6bd489ea36c7"
      },
      "outputs": [
        {
          "name": "stdout",
          "output_type": "stream",
          "text": [
            "dict_values(['Ford', 'Mustang', 1964])\n"
          ]
        }
      ],
      "source": [
        "# Dictionary\n",
        "# Get Values\n",
        "# The values() method will return a list of all the values in the dictionary.\n",
        "\n",
        "dict1= {\n",
        "  \"brand\": \"Ford\",\n",
        "  \"model\": \"Mustang\",\n",
        "  \"year\": 1964\n",
        "}\n",
        "\n",
        "x = dict1.values()\n",
        "\n",
        "print(x)\n",
        "\n",
        "# The list of the values is a view of the dictionary,\n",
        "# meaning that any changes done to the dictionary will be reflected in the values list."
      ]
    },
    {
      "cell_type": "code",
      "execution_count": null,
      "metadata": {
        "colab": {
          "base_uri": "https://localhost:8080/"
        },
        "id": "tczP4LlHPD7g",
        "outputId": "02c95368-e4cb-4203-c104-f039945c7b61"
      },
      "outputs": [
        {
          "name": "stdout",
          "output_type": "stream",
          "text": [
            "dict_items([('brand', 'Ford'), ('model', 'Mustang'), ('year', 1964)])\n",
            "Yes, 'model' is one of the keys in the thisdict dictionary\n"
          ]
        }
      ],
      "source": [
        "# Dictionary\n",
        "\n",
        "# Get Items\n",
        "# The items() method will return each item in a dictionary, as tuples in a list.\n",
        "\n",
        "dict1 = {\n",
        "  \"brand\": \"Ford\",\n",
        "  \"model\": \"Mustang\",\n",
        "  \"year\": 1964\n",
        "}\n",
        "\n",
        "x = dict1.items()\n",
        "\n",
        "print(x)\n",
        "\n",
        "# The returned list is a view of the items of the dictionary,\n",
        "#  meaning that any changes done to the dictionary will be reflected in the items list.\n",
        "\n",
        "# Check if Key Exists\n",
        "# To determine if a specified key is present in a dictionary use the in keyword:\n",
        "\n",
        "if \"model\" in dict1:\n",
        "  print(\"Yes, 'model' is one of the keys in the thisdict dictionary\")"
      ]
    },
    {
      "cell_type": "code",
      "execution_count": null,
      "metadata": {
        "colab": {
          "base_uri": "https://localhost:8080/"
        },
        "id": "thNR2PL0QLYj",
        "outputId": "08664862-f3d3-4802-db1d-14842051370a"
      },
      "outputs": [
        {
          "name": "stdout",
          "output_type": "stream",
          "text": [
            "{'brand': 'Ford', 'model': 'Mustang', 'year': 2018}\n"
          ]
        }
      ],
      "source": [
        "# Dictionary\n",
        "# Change Dictionary Items\n",
        "# Change Values-->>\n",
        "# You can change the value of a specific item by referring to its key name:\n",
        "\n",
        "dict1 = {\n",
        "  \"brand\": \"Ford\",\n",
        "  \"model\": \"Mustang\",\n",
        "  \"year\": 1964\n",
        "}\n",
        "dict1[\"year\"] = 2018\n",
        "print(dict1)\n"
      ]
    },
    {
      "cell_type": "code",
      "execution_count": null,
      "metadata": {
        "colab": {
          "base_uri": "https://localhost:8080/"
        },
        "id": "j3hkFLTyREQ5",
        "outputId": "bc266a5f-77bc-4e31-f15f-9010aa775ff9"
      },
      "outputs": [
        {
          "name": "stdout",
          "output_type": "stream",
          "text": [
            "{'brand': 'Ford', 'model': 'Mustang', 'year': 2020}\n"
          ]
        }
      ],
      "source": [
        "# Dictionary\n",
        "\n",
        "# Update Dictionary\n",
        "# The update() method will update the dictionary with the items from the given argument.\n",
        "\n",
        "# The argument must be a dictionary, or an iterable object with key:value pairs.\n",
        "\n",
        "mydict = {\n",
        "  \"brand\": \"Ford\",\n",
        "  \"model\": \"Mustang\",\n",
        "  \"year\": 1964\n",
        "}\n",
        "mydict.update({\"year\": 2020})\n",
        "print(mydict)"
      ]
    },
    {
      "cell_type": "code",
      "execution_count": null,
      "metadata": {
        "colab": {
          "base_uri": "https://localhost:8080/"
        },
        "id": "D-AsqVAhRy9v",
        "outputId": "fede3e52-c59f-41a6-8118-6aafb3615b48"
      },
      "outputs": [
        {
          "name": "stdout",
          "output_type": "stream",
          "text": [
            "{'brand': 'Ford', 'model': 'Mustang', 'year': 1964, 'color': 'red'}\n"
          ]
        }
      ],
      "source": [
        "# Dictionary\n",
        "\n",
        "# Add Dictionary Items->>\n",
        "# Adding an item to the dictionary is done by using a new index key and assigning a value to it:\n",
        "\n",
        "dict2 = {\n",
        "  \"brand\": \"Ford\",\n",
        "  \"model\": \"Mustang\",\n",
        "  \"year\": 1964\n",
        "}\n",
        "dict2[\"color\"] = \"red\"\n",
        "print(dict2)"
      ]
    },
    {
      "cell_type": "code",
      "execution_count": null,
      "metadata": {
        "colab": {
          "base_uri": "https://localhost:8080/"
        },
        "id": "YTApEF-8SdkI",
        "outputId": "856abd9c-0735-48d3-f8ee-7c28921b30de"
      },
      "outputs": [
        {
          "name": "stdout",
          "output_type": "stream",
          "text": [
            "{'brand': 'Ford', 'model': 'Mustang', 'year': 1964, 'color': 'red'}\n"
          ]
        }
      ],
      "source": [
        "# Dictionary\n",
        "\n",
        "# Update Dictionary->>\n",
        "\n",
        "# The update() method will update the dictionary with the items from a given argument.\n",
        "# If the item does not exist, the item will be added.\n",
        "\n",
        "# The argument must be a dictionary, or an iterable object with key:value pairs.\n",
        "x = {\n",
        "  \"brand\": \"Ford\",\n",
        "  \"model\": \"Mustang\",\n",
        "  \"year\": 1964\n",
        "}\n",
        "x.update({\"color\": \"red\"})\n",
        "print(x)"
      ]
    },
    {
      "cell_type": "code",
      "execution_count": null,
      "metadata": {
        "colab": {
          "base_uri": "https://localhost:8080/"
        },
        "id": "-40rvaeFTD5U",
        "outputId": "e204a5be-dff2-4179-d0b6-a74018f450ca"
      },
      "outputs": [
        {
          "name": "stdout",
          "output_type": "stream",
          "text": [
            "{'brand': 'Ford', 'model': 'Mustang', 'year': 1964, 'color': 'cherry'}\n",
            "{'year': 1964}\n"
          ]
        }
      ],
      "source": [
        "# Dictionary\n",
        "\n",
        "# Removing Items\n",
        "\n",
        "# The pop() method removes the item with the specified key name:\n",
        "\n",
        "# The popitem() method removes the last inserted item (in versions before 3.7, a random item is removed instead):\n",
        "\n",
        "# The del keyword removes the item with the specified key name:\n",
        "\n",
        "thisdict = {\n",
        "  \"brand\": \"Ford\",\n",
        "  \"model\": \"Mustang\",\n",
        "  \"year\": 1964,\n",
        "  \"color\":red\n",
        "}\n",
        "print(thisdict)\n",
        "thisdict.pop(\"model\")\n",
        "thisdict.popitem()\n",
        "del thisdict[\"brand\"]\n",
        "print(thisdict)\n"
      ]
    },
    {
      "cell_type": "code",
      "execution_count": null,
      "metadata": {
        "colab": {
          "base_uri": "https://localhost:8080/"
        },
        "id": "3VYfPBkA11_Q",
        "outputId": "40adac39-d84f-4f4b-b5e9-75ffc2d6fcaa"
      },
      "outputs": [
        {
          "name": "stdout",
          "output_type": "stream",
          "text": [
            "45\n"
          ]
        }
      ],
      "source": [
        "sum=0\n",
        "for i in range(10,1,1):\n",
        "  sum=sum+i\n",
        "print(sum)"
      ]
    },
    {
      "cell_type": "code",
      "execution_count": null,
      "metadata": {
        "colab": {
          "base_uri": "https://localhost:8080/"
        },
        "id": "iSNBcrGH5CB-",
        "outputId": "f1a1aa52-556e-4a07-f4aa-c4c0077b951a"
      },
      "outputs": [
        {
          "name": "stdout",
          "output_type": "stream",
          "text": [
            "10\n",
            "9\n",
            "8\n",
            "7\n",
            "6\n",
            "5\n",
            "4\n",
            "3\n",
            "2\n"
          ]
        }
      ],
      "source": [
        "for i in range(10,1,-1):\n",
        "  print(i)"
      ]
    },
    {
      "cell_type": "code",
      "execution_count": null,
      "metadata": {
        "colab": {
          "base_uri": "https://localhost:8080/"
        },
        "id": "ZJ9l7jlB71O1",
        "outputId": "a636dcf7-9873-401a-b210-677f093f13c7"
      },
      "outputs": [
        {
          "name": "stdout",
          "output_type": "stream",
          "text": [
            "b\n",
            "a\n",
            "n\n",
            "a\n",
            "n\n",
            "a\n"
          ]
        }
      ],
      "source": [
        "# Looping Through a String\n",
        "\n",
        "for x in \"banana\":\n",
        "  print(x)\n"
      ]
    },
    {
      "cell_type": "code",
      "execution_count": null,
      "metadata": {
        "colab": {
          "base_uri": "https://localhost:8080/"
        },
        "id": "5zVti5vv8PmT",
        "outputId": "5edac6a2-2824-447a-f9ee-80d1bcdeb186"
      },
      "outputs": [
        {
          "name": "stdout",
          "output_type": "stream",
          "text": [
            "apple\n",
            "banana\n",
            "apple\n",
            "cherry\n"
          ]
        }
      ],
      "source": [
        "# The break Statement\n",
        "\n",
        "fruits = [\"apple\", \"banana\", \"cherry\"]\n",
        "for x in fruits:\n",
        "  print(x)\n",
        "  if x == \"banana\":\n",
        "    break\n",
        "# continue Statement\n",
        "\n",
        "for x in fruits:\n",
        "  if x == \"banana\":\n",
        "    continue\n",
        "  print(x)\n"
      ]
    },
    {
      "cell_type": "code",
      "execution_count": null,
      "metadata": {
        "colab": {
          "base_uri": "https://localhost:8080/"
        },
        "id": "Og5GGMmg9T57",
        "outputId": "333c7580-342e-4f9d-ce82-e4089a59cd0c"
      },
      "outputs": [
        {
          "output_type": "stream",
          "name": "stdout",
          "text": [
            "0\n",
            "1\n",
            "2\n",
            "3\n",
            "4\n",
            "5\n",
            "***\n",
            "2\n",
            "3\n",
            "4\n",
            "5\n"
          ]
        }
      ],
      "source": [
        "# range() Function\n",
        "# The range() function returns a sequence of numbers, starting from 0 by default,\n",
        "# and increments by 1 (by default), and ends at a specified number.\n",
        "\n",
        "for x in range(6):\n",
        "  print(x)\n",
        "\n",
        "print('***')\n",
        "# Note that range(6) is not the values of 0 to 6, but the values 0 to 5.\n",
        "\n",
        "# Using the start parameter:\n",
        "for y in range(2, 6):\n",
        "\n",
        "  print(y)\n",
        "\n",
        "# The range() function defaults to increment the sequence by 1,\n",
        "# however it is possible to specify the increment value by adding a third parameter: range(2, 30, 3):"
      ]
    },
    {
      "cell_type": "code",
      "execution_count": null,
      "metadata": {
        "colab": {
          "base_uri": "https://localhost:8080/"
        },
        "id": "MFbfxdHb_ssm",
        "outputId": "116b0f12-906e-4abe-cf48-dd0d6aaed2de"
      },
      "outputs": [
        {
          "name": "stdout",
          "output_type": "stream",
          "text": [
            "0\n",
            "1\n",
            "2\n",
            "3\n",
            "4\n",
            "finished\n"
          ]
        }
      ],
      "source": [
        "# Else in For Loop\n",
        "\n",
        "for x in range(5):\n",
        "  print(x)\n",
        "else:\n",
        "  print('finished')\n"
      ]
    },
    {
      "cell_type": "code",
      "execution_count": null,
      "metadata": {
        "colab": {
          "base_uri": "https://localhost:8080/"
        },
        "id": "v24lLNWRDbN5",
        "outputId": "526afe3c-a70c-46a2-d3cf-e88976474b33"
      },
      "outputs": [
        {
          "output_type": "stream",
          "name": "stdout",
          "text": [
            "0\n",
            "1\n",
            "2\n"
          ]
        }
      ],
      "source": [
        "# Note: The else block will NOT be executed if the loop is stopped by a break statement.\n",
        "for x in range(6):\n",
        "  if x==3:\n",
        "    break\n",
        "  print(x)\n",
        "else:\n",
        "  print('finished')"
      ]
    },
    {
      "cell_type": "code",
      "execution_count": null,
      "metadata": {
        "colab": {
          "base_uri": "https://localhost:8080/"
        },
        "id": "-pbgjrPeBs3_",
        "outputId": "f9bc8981-491c-452e-92bd-72ed356c2e2e"
      },
      "outputs": [
        {
          "name": "stdout",
          "output_type": "stream",
          "text": [
            "15\n"
          ]
        }
      ],
      "source": [
        "i=0\n",
        "sum=0\n",
        "while i<6:\n",
        "  sum=sum+i\n",
        "  i+=1\n",
        "print(sum)\n",
        "\n",
        "# Note: remember to increment i, or else the loop will continue forever."
      ]
    },
    {
      "cell_type": "code",
      "execution_count": null,
      "metadata": {
        "colab": {
          "base_uri": "https://localhost:8080/"
        },
        "id": "PqzcAh0eGWc4",
        "outputId": "d90077ab-52d1-49ae-8b88-5b2d52a4051a"
      },
      "outputs": [
        {
          "name": "stdout",
          "output_type": "stream",
          "text": [
            "0\n",
            "1\n",
            "2\n",
            "3\n"
          ]
        }
      ],
      "source": [
        "x=0\n",
        "while x<5:\n",
        "  print(x)\n",
        "  if x==3:\n",
        "    break\n",
        "  x+=1"
      ]
    },
    {
      "cell_type": "code",
      "execution_count": null,
      "metadata": {
        "colab": {
          "base_uri": "https://localhost:8080/"
        },
        "id": "9soqzXyVGeNJ",
        "outputId": "21461308-8794-49fa-dd59-47d57a9677e6"
      },
      "outputs": [
        {
          "name": "stdout",
          "output_type": "stream",
          "text": [
            "1\n",
            "2\n",
            "4\n",
            "5\n",
            "6\n"
          ]
        }
      ],
      "source": [
        "# The continue Statement\n",
        "\n",
        "i = 0\n",
        "while i < 6:\n",
        "  i += 1\n",
        "  if i == 3:\n",
        "    continue\n",
        "  print(i)\n"
      ]
    },
    {
      "cell_type": "code",
      "execution_count": null,
      "metadata": {
        "colab": {
          "base_uri": "https://localhost:8080/"
        },
        "id": "7-XhbEvwID1v",
        "outputId": "2efb5651-27c6-4f54-ae2f-df25ca3aa7ac"
      },
      "outputs": [
        {
          "name": "stdout",
          "output_type": "stream",
          "text": [
            "rose\n",
            "jasmine\n",
            "lilly\n",
            "tulip\n"
          ]
        }
      ],
      "source": [
        "# Loop Lists\n",
        "# for loop\n",
        "\n",
        "flowers=['rose','jasmine','lilly','tulip']\n",
        "for x in flowers:\n",
        "  print(x)"
      ]
    },
    {
      "cell_type": "code",
      "execution_count": null,
      "metadata": {
        "colab": {
          "base_uri": "https://localhost:8080/"
        },
        "id": "LBJMcXckJpcI",
        "outputId": "693c875a-d16f-4e90-ec89-2700cf21f434"
      },
      "outputs": [
        {
          "name": "stdout",
          "output_type": "stream",
          "text": [
            "rose\n",
            "jasmine\n",
            "lilly\n",
            "tulip\n"
          ]
        }
      ],
      "source": [
        "# Loop Lists\n",
        "# Loop Through the Index Numbers\n",
        "\n",
        "flowers=['rose','jasmine','lilly','tulip']\n",
        "for x in range(len(flowers)):\n",
        "  print(flowers[x])\n"
      ]
    },
    {
      "cell_type": "code",
      "execution_count": null,
      "metadata": {
        "colab": {
          "base_uri": "https://localhost:8080/"
        },
        "id": "YdOW9RJ9KdOd",
        "outputId": "0d3f66cf-1544-47bd-dd27-e454bc32c3c0"
      },
      "outputs": [
        {
          "name": "stdout",
          "output_type": "stream",
          "text": [
            "rose\n",
            "jasmine\n",
            "lilly\n",
            "tulip\n"
          ]
        }
      ],
      "source": [
        "# Loop Lists\n",
        "\n",
        "# While Loop\n",
        "\n",
        "flowers=['rose','jasmine','lilly','tulip']\n",
        "x=0\n",
        "while x<len(flowers):\n",
        "  print(flowers[x])\n",
        "  x+=1\n",
        "\n",
        "\n"
      ]
    },
    {
      "cell_type": "code",
      "execution_count": null,
      "metadata": {
        "colab": {
          "base_uri": "https://localhost:8080/"
        },
        "id": "sFsS7O2eLOML",
        "outputId": "e95407b3-d239-473d-9b9d-4d33c140cf81"
      },
      "outputs": [
        {
          "name": "stdout",
          "output_type": "stream",
          "text": [
            "rose\n",
            "jasmine\n",
            "lilly\n",
            "tulip\n"
          ]
        },
        {
          "data": {
            "text/plain": [
              "[None, None, None, None]"
            ]
          },
          "execution_count": 43,
          "metadata": {},
          "output_type": "execute_result"
        }
      ],
      "source": [
        "# Loop Lists\n",
        "# Looping Using List Comprehension\n",
        "\n",
        "flowers=['rose','jasmine','lilly','tulip']\n",
        "[print(x) for x in flowers]"
      ]
    },
    {
      "cell_type": "code",
      "execution_count": null,
      "metadata": {
        "colab": {
          "base_uri": "https://localhost:8080/"
        },
        "id": "oJccKAI7MDvA",
        "outputId": "fbaa3ca4-65b2-4ac5-f7b7-35d053a2ac44"
      },
      "outputs": [
        {
          "name": "stdout",
          "output_type": "stream",
          "text": [
            "rose\n",
            "jasmine\n",
            "lilly\n",
            "tulip\n"
          ]
        }
      ],
      "source": [
        "# Loop Tuples\n",
        "\n",
        "flowers=('rose','jasmine','lilly','tulip')\n",
        "for y in flowers:\n",
        "  print(y)\n",
        "\n"
      ]
    },
    {
      "cell_type": "code",
      "execution_count": null,
      "metadata": {
        "colab": {
          "base_uri": "https://localhost:8080/"
        },
        "id": "o832RaudMldJ",
        "outputId": "29a5a0e9-a889-4381-91f1-e2ae5dd29334"
      },
      "outputs": [
        {
          "name": "stdout",
          "output_type": "stream",
          "text": [
            "rose\n",
            "jasmine\n",
            "lilly\n",
            "tulip\n"
          ]
        }
      ],
      "source": [
        "# Loop Tuples\n",
        "# Loop Through the Index Numbers\n",
        "\n",
        "flowers=('rose','jasmine','lilly','tulip')\n",
        "for y in range(len(flowers)):\n",
        "  print(flowers[y])\n"
      ]
    },
    {
      "cell_type": "code",
      "execution_count": null,
      "metadata": {
        "id": "vRusLwHXNV49"
      },
      "outputs": [],
      "source": [
        "# Loop Tuples\n",
        "\n",
        "# While Loop\n",
        "\n",
        "flowers=('rose','jasmine','lilly','tulip')\n",
        "x=0\n",
        "while x<len(flowers):\n",
        "  print(flowers[x])\n",
        "  x+=1"
      ]
    },
    {
      "cell_type": "code",
      "execution_count": null,
      "metadata": {
        "colab": {
          "base_uri": "https://localhost:8080/"
        },
        "id": "M4LUahCeDyld",
        "outputId": "ad17478a-80c6-4b4a-fdaa-bd883717f708"
      },
      "outputs": [
        {
          "name": "stdout",
          "output_type": "stream",
          "text": [
            "kiwi\n",
            "mango\n",
            "apple\n"
          ]
        }
      ],
      "source": [
        "# Loop Sets\n",
        "\n",
        "myset={'apple','kiwi','mango'}\n",
        "for x in myset:\n",
        "  print(x)"
      ]
    },
    {
      "cell_type": "code",
      "execution_count": null,
      "metadata": {
        "colab": {
          "base_uri": "https://localhost:8080/"
        },
        "id": "kvlhkd0yEuif",
        "outputId": "01002454-7c9f-4e23-f6f6-95edaad00230"
      },
      "outputs": [
        {
          "name": "stdout",
          "output_type": "stream",
          "text": [
            "brand\n",
            "model\n",
            "year\n",
            "maruti\n",
            "alto\n",
            "2004\n"
          ]
        }
      ],
      "source": [
        "# Loop Dictionaries\n",
        "\n",
        "# When looping through a dictionary, the return value are the keys of the dictionary\n",
        "\n",
        "mydictio={\n",
        "    'brand':'maruti',\n",
        "    'model':'alto',\n",
        "    'year':'2004'\n",
        "}\n",
        "for x in mydictio:\n",
        "  print(x)\n",
        "  # Print all values in the dictionary, one by one:\n",
        "\n",
        "for y in mydictio:\n",
        "  print(mydictio[y])"
      ]
    },
    {
      "cell_type": "code",
      "execution_count": null,
      "metadata": {
        "colab": {
          "base_uri": "https://localhost:8080/"
        },
        "id": "zoePAaR-Kl0U",
        "outputId": "d90d759d-c82d-4bd7-a065-88962e424cb3"
      },
      "outputs": [
        {
          "name": "stdout",
          "output_type": "stream",
          "text": [
            "* \n",
            "* * \n",
            "* * * \n",
            "* * * * \n",
            "* * * * * \n",
            "* * * * * * \n",
            "* * * * * * * \n",
            "* * * * * * * * \n",
            "* * * * * * * * * \n",
            "* * * * * * * * * * \n"
          ]
        }
      ],
      "source": [
        "for i in range(10):\n",
        "  for j in range(i+1):\n",
        "    print('*',end=' ')\n",
        "  print()"
      ]
    },
    {
      "cell_type": "code",
      "execution_count": null,
      "metadata": {
        "colab": {
          "base_uri": "https://localhost:8080/"
        },
        "id": "6xSjA-srLGZc",
        "outputId": "758156d5-9105-40c6-ed78-81daf1e7b5c0"
      },
      "outputs": [
        {
          "name": "stdout",
          "output_type": "stream",
          "text": [
            "10 9 8 7 6 5 4 3 2 1 \n",
            "10 9 8 7 6 5 4 3 2 \n",
            "10 9 8 7 6 5 4 3 \n",
            "10 9 8 7 6 5 4 \n",
            "10 9 8 7 6 5 \n",
            "10 9 8 7 6 \n",
            "10 9 8 7 \n",
            "10 9 8 \n",
            "10 9 \n",
            "10 \n"
          ]
        }
      ],
      "source": [
        "for i in range(0,10):\n",
        "  for j in range(10,i,-1):\n",
        "    print(j,end=' ')\n",
        "  print()"
      ]
    },
    {
      "cell_type": "code",
      "execution_count": null,
      "metadata": {
        "colab": {
          "base_uri": "https://localhost:8080/"
        },
        "id": "8HuZgMa2O_7z",
        "outputId": "4c035cc1-6f15-45d8-b765-f86493402f42"
      },
      "outputs": [
        {
          "name": "stdout",
          "output_type": "stream",
          "text": [
            "1 \n",
            "2 2 \n",
            "3 3 3 \n",
            "4 4 4 4 \n",
            "5 5 5 5 5 \n",
            "6 6 6 6 6 6 \n",
            "7 7 7 7 7 7 7 \n",
            "8 8 8 8 8 8 8 8 \n",
            "9 9 9 9 9 9 9 9 9 \n",
            "10 10 10 10 10 10 10 10 10 10 \n"
          ]
        }
      ],
      "source": [
        "for i in range(10):\n",
        "  for j in range(i+1):\n",
        "    print(i+1,end=' ')\n",
        "  print()"
      ]
    },
    {
      "cell_type": "code",
      "execution_count": null,
      "metadata": {
        "colab": {
          "base_uri": "https://localhost:8080/"
        },
        "id": "im9xndxmQIjT",
        "outputId": "ad09dbb7-b2c5-4af5-8c6c-2614e2dbf0d2"
      },
      "outputs": [
        {
          "name": "stdout",
          "output_type": "stream",
          "text": [
            "1 \n",
            "1 2 \n",
            "1 2 3 \n",
            "1 2 3 4 \n",
            "1 2 3 4 5 \n",
            "1 2 3 4 5 6 \n",
            "1 2 3 4 5 6 7 \n",
            "1 2 3 4 5 6 7 8 \n",
            "1 2 3 4 5 6 7 8 9 \n",
            "1 2 3 4 5 6 7 8 9 10 \n"
          ]
        }
      ],
      "source": [
        "for i in range(10):\n",
        "  for j in range(i+1):\n",
        "    print(j+1,end=' ')\n",
        "  print()"
      ]
    },
    {
      "cell_type": "code",
      "execution_count": null,
      "metadata": {
        "colab": {
          "base_uri": "https://localhost:8080/"
        },
        "id": "AXkWf2sJXkVt",
        "outputId": "32995f3e-5745-4dc6-a1b8-58ec3e904f93"
      },
      "outputs": [
        {
          "name": "stdout",
          "output_type": "stream",
          "text": [
            "* * * * * * * * * * \n",
            "* * * * * * * * * * \n",
            "* * * * * * * * * * \n",
            "* * * * * * * * * * \n",
            "* * * * * * * * * * \n",
            "* * * * * * * * * * \n",
            "* * * * * * * * * * \n",
            "* * * * * * * * * * \n",
            "* * * * * * * * * * \n",
            "* * * * * * * * * * \n"
          ]
        }
      ],
      "source": [
        "for i in range(10):\n",
        "  for j in range(1,11):\n",
        "    print('*',end=' ')\n",
        "  print()"
      ]
    },
    {
      "cell_type": "code",
      "execution_count": null,
      "metadata": {
        "colab": {
          "base_uri": "https://localhost:8080/"
        },
        "id": "OTGBESoBdQvt",
        "outputId": "358b1da1-23fb-4189-a6cd-9b28c2940e30"
      },
      "outputs": [
        {
          "name": "stdout",
          "output_type": "stream",
          "text": [
            "7 7 7 7 7 7 7 \n",
            "7 7 7 7 7 7 \n",
            "7 7 7 7 7 \n",
            "7 7 7 7 \n",
            "7 7 7 \n",
            "7 7 \n",
            "7 \n",
            "\n"
          ]
        }
      ],
      "source": [
        "# Task1\n",
        "\n",
        "for i in range(8):\n",
        "  for j in range(8,i+1,-1):\n",
        "    print('7',end=' ')\n",
        "  print()"
      ]
    },
    {
      "cell_type": "code",
      "execution_count": null,
      "metadata": {
        "colab": {
          "base_uri": "https://localhost:8080/"
        },
        "id": "Y92XMVIieB6O",
        "outputId": "05e87d44-e81f-4c87-9ccd-ec74c909581d"
      },
      "outputs": [
        {
          "name": "stdout",
          "output_type": "stream",
          "text": [
            "1 \n",
            "1 2 \n",
            "1 2 3 \n",
            "1 2 3 4 \n",
            "1 2 3 4 5 \n",
            "1 2 3 4 5 6 \n",
            "1 2 3 4 5 6 7 \n"
          ]
        }
      ],
      "source": [
        "# Task2\n",
        "\n",
        "for i in range(7):\n",
        "  for j in range(i+1):\n",
        "    print(j+1,end=' ')\n",
        "  print()"
      ]
    },
    {
      "cell_type": "code",
      "execution_count": null,
      "metadata": {
        "colab": {
          "base_uri": "https://localhost:8080/"
        },
        "id": "hjXKTEwnefAK",
        "outputId": "3de4fd32-feb9-4c1d-f3b6-425459290d5e"
      },
      "outputs": [
        {
          "name": "stdout",
          "output_type": "stream",
          "text": [
            "1 1 1 1 1 1 1 \n",
            "2 2 2 2 2 2 \n",
            "3 3 3 3 3 \n",
            "4 4 4 4 \n",
            "5 5 5 \n",
            "6 6 \n"
          ]
        }
      ],
      "source": [
        "# Task3\n",
        "\n",
        "for i in range(6):\n",
        "  for j in range(8,i+1,-1):\n",
        "    print(i+1,end=' ')\n",
        "  print()"
      ]
    },
    {
      "cell_type": "code",
      "execution_count": null,
      "metadata": {
        "colab": {
          "base_uri": "https://localhost:8080/"
        },
        "id": "qlnPcZwvgdCe",
        "outputId": "03a81668-3759-4363-b258-e9e925ca6022"
      },
      "outputs": [
        {
          "name": "stdout",
          "output_type": "stream",
          "text": [
            "1 \n",
            "2 1 \n",
            "3 2 1 \n",
            "4 3 2 1 \n",
            "5 4 3 2 1 \n",
            "6 5 4 3 2 1 \n",
            "7 6 5 4 3 2 1 \n"
          ]
        }
      ],
      "source": [
        "# Task4\n",
        "\n",
        "for i in range(7):\n",
        "  for j in range(i+1,0,-1):\n",
        "    print(j,end=' ')\n",
        "  print()"
      ]
    },
    {
      "cell_type": "code",
      "execution_count": null,
      "metadata": {
        "colab": {
          "background_save": true,
          "base_uri": "https://localhost:8080/"
        },
        "id": "a9SDkMX4h3o_",
        "outputId": "05b43fec-ccff-4f6f-d967-5b71d4138d40"
      },
      "outputs": [
        {
          "name": "stdout",
          "output_type": "stream",
          "text": [
            "1 2 3 4 5 \n",
            "2 3 4 5 \n",
            "3 4 5 \n",
            "4 5 \n",
            "5 \n"
          ]
        }
      ],
      "source": [
        "for i in range(5):\n",
        "  for j in range(1,6):\n",
        "    print(j,end=' ')\n",
        "  print()"
      ]
    },
    {
      "cell_type": "code",
      "source": [
        "for i in range(10):\n",
        "  for k in range(10,i,-1):\n",
        "    print(' ',end=' ')\n",
        "  for j in range(i+1):\n",
        "    print('*',end=' ')\n",
        "  print()"
      ],
      "metadata": {
        "colab": {
          "base_uri": "https://localhost:8080/"
        },
        "id": "IwqSOVuInV-7",
        "outputId": "bbc80060-a7d5-4ff9-d211-ad89e85bdf67"
      },
      "execution_count": null,
      "outputs": [
        {
          "output_type": "stream",
          "name": "stdout",
          "text": [
            "                    * \n",
            "                  * * \n",
            "                * * * \n",
            "              * * * * \n",
            "            * * * * * \n",
            "          * * * * * * \n",
            "        * * * * * * * \n",
            "      * * * * * * * * \n",
            "    * * * * * * * * * \n",
            "  * * * * * * * * * * \n"
          ]
        }
      ]
    },
    {
      "cell_type": "code",
      "source": [
        "# Triangle\n",
        "\n",
        "for i in range(10):\n",
        "  for k in range(10,i,-1):\n",
        "    print(' ',end=' ')\n",
        "  for j in range(i+1):\n",
        "    print('*',end='   ')\n",
        "  print()"
      ],
      "metadata": {
        "colab": {
          "base_uri": "https://localhost:8080/"
        },
        "id": "UIG8cp3U0BQ8",
        "outputId": "4907f593-415e-49ef-88b8-b764cd7e2c3d"
      },
      "execution_count": null,
      "outputs": [
        {
          "output_type": "stream",
          "name": "stdout",
          "text": [
            "                    *   \n",
            "                  *   *   \n",
            "                *   *   *   \n",
            "              *   *   *   *   \n",
            "            *   *   *   *   *   \n",
            "          *   *   *   *   *   *   \n",
            "        *   *   *   *   *   *   *   \n",
            "      *   *   *   *   *   *   *   *   \n",
            "    *   *   *   *   *   *   *   *   *   \n",
            "  *   *   *   *   *   *   *   *   *   *   \n"
          ]
        }
      ]
    },
    {
      "cell_type": "code",
      "source": [
        "# inverted triangle\n",
        "\n",
        "for i in range(10):\n",
        "  for k in range(i):\n",
        "    print(' ',end=' ')\n",
        "  for j in range(10,i,-1):\n",
        "    print('*',end='   ')\n",
        "  print()"
      ],
      "metadata": {
        "colab": {
          "base_uri": "https://localhost:8080/"
        },
        "id": "pQom6U9N0NSs",
        "outputId": "ab11a1c8-4b4f-4554-c177-a75266ed7dff"
      },
      "execution_count": null,
      "outputs": [
        {
          "output_type": "stream",
          "name": "stdout",
          "text": [
            "*   *   *   *   *   *   *   *   *   *   \n",
            "  *   *   *   *   *   *   *   *   *   \n",
            "    *   *   *   *   *   *   *   *   \n",
            "      *   *   *   *   *   *   *   \n",
            "        *   *   *   *   *   *   \n",
            "          *   *   *   *   *   \n",
            "            *   *   *   *   \n",
            "              *   *   *   \n",
            "                *   *   \n",
            "                  *   \n"
          ]
        }
      ]
    },
    {
      "cell_type": "code",
      "source": [
        "# Diamon\n",
        "for i in range(10):\n",
        "  for k in range(10,i,-1):\n",
        "    print(' ',end=' ')\n",
        "  for j in range(i+1):\n",
        "    print('*',end='   ')\n",
        "  print()\n",
        "for i in range(10):\n",
        "  for k in range(i):\n",
        "    print(' ',end=' ')\n",
        "  for j in range(10,i,-1):\n",
        "    print('*',end='   ')\n",
        "  print()"
      ],
      "metadata": {
        "colab": {
          "base_uri": "https://localhost:8080/"
        },
        "id": "soGE561_iGsM",
        "outputId": "0d2eaa98-6f4e-421c-c5e5-f7f327eabd80"
      },
      "execution_count": null,
      "outputs": [
        {
          "output_type": "stream",
          "name": "stdout",
          "text": [
            "                    *   \n",
            "                  *   *   \n",
            "                *   *   *   \n",
            "              *   *   *   *   \n",
            "            *   *   *   *   *   \n",
            "          *   *   *   *   *   *   \n",
            "        *   *   *   *   *   *   *   \n",
            "      *   *   *   *   *   *   *   *   \n",
            "    *   *   *   *   *   *   *   *   *   \n",
            "  *   *   *   *   *   *   *   *   *   *   \n",
            "*   *   *   *   *   *   *   *   *   *   \n",
            "  *   *   *   *   *   *   *   *   *   \n",
            "    *   *   *   *   *   *   *   *   \n",
            "      *   *   *   *   *   *   *   \n",
            "        *   *   *   *   *   *   \n",
            "          *   *   *   *   *   \n",
            "            *   *   *   *   \n",
            "              *   *   *   \n",
            "                *   *   \n",
            "                  *   \n"
          ]
        }
      ]
    },
    {
      "cell_type": "code",
      "source": [
        "# functions\n",
        "\n",
        "def sum(a,b):\n",
        "  c=a+b\n",
        "  print(c)\n",
        "sum(1,4)"
      ],
      "metadata": {
        "colab": {
          "base_uri": "https://localhost:8080/"
        },
        "id": "Y0oKFZH1o1OY",
        "outputId": "35eaecc7-2049-409f-bc22-4b7f5fd3b5fb"
      },
      "execution_count": null,
      "outputs": [
        {
          "output_type": "stream",
          "name": "stdout",
          "text": [
            "5\n"
          ]
        }
      ]
    },
    {
      "cell_type": "code",
      "source": [
        "def tria(n):\n",
        "  for i in range(n):\n",
        "    for j in range(i+1):\n",
        "      print('*',end=' ')\n",
        "    print()\n",
        "tria(7)"
      ],
      "metadata": {
        "colab": {
          "base_uri": "https://localhost:8080/"
        },
        "id": "RbXUx5QbpR13",
        "outputId": "85a936cb-5b10-4a15-eb35-c5205a4e1d4c"
      },
      "execution_count": null,
      "outputs": [
        {
          "output_type": "stream",
          "name": "stdout",
          "text": [
            "* \n",
            "* * \n",
            "* * * \n",
            "* * * * \n",
            "* * * * * \n",
            "* * * * * * \n",
            "* * * * * * * \n"
          ]
        }
      ]
    },
    {
      "cell_type": "code",
      "source": [
        "def tria(n):\n",
        "  for i in range(n):\n",
        "    for k in range(n,i,-1):\n",
        "      print(' ',end=' ')\n",
        "    for j in range(i+1):\n",
        "      print('*',end=' ')\n",
        "    print()\n",
        "tria(8)"
      ],
      "metadata": {
        "colab": {
          "base_uri": "https://localhost:8080/"
        },
        "id": "Xd0aG_qHqCxZ",
        "outputId": "b5793153-83da-4f39-be9a-9011778e32ba"
      },
      "execution_count": null,
      "outputs": [
        {
          "output_type": "stream",
          "name": "stdout",
          "text": [
            "                * \n",
            "              * * \n",
            "            * * * \n",
            "          * * * * \n",
            "        * * * * * \n",
            "      * * * * * * \n",
            "    * * * * * * * \n",
            "  * * * * * * * * \n"
          ]
        }
      ]
    },
    {
      "cell_type": "code",
      "source": [
        "# Python *args\n",
        "\n",
        "# In Python, *args is used in function definitions to allow the function to accept an arbitrary number of positional arguments.\n",
        "# This feature is part of Python's support for flexible function parameter lists.\n",
        "# Here's a detailed explanation and examples of how *args works:\n",
        "\n",
        "# Using *args\n",
        "# When you prefix a parameter with * in a function definition, it collects all the additional\n",
        "# positional arguments passed to the function into a tuple.\n",
        "# This allows you to handle functions with a variable number of arguments\n",
        "\n",
        "def my_function(*args):\n",
        "    for arg in args:\n",
        "        print(arg)\n",
        "my_function(1, 2, 3)"
      ],
      "metadata": {
        "colab": {
          "base_uri": "https://localhost:8080/"
        },
        "id": "h1TrM9Kgr0Fz",
        "outputId": "965189b8-d76f-40ed-9bd5-45fe77ada56d"
      },
      "execution_count": null,
      "outputs": [
        {
          "output_type": "stream",
          "name": "stdout",
          "text": [
            "1\n",
            "2\n",
            "3\n"
          ]
        }
      ]
    },
    {
      "cell_type": "code",
      "source": [
        "# Python **kwargs\n",
        "\n",
        "# In Python, **kwargs is a special syntax used in function definitions to pass\n",
        "# a variable number of keyword arguments. \"kwargs\" stands for \"keyword arguments\" and\n",
        "# allows you to handle named arguments that are not explicitly defined in the function signature.\n",
        "\n",
        "\n",
        "\n",
        "# Arbitrary Kword Arguments are often shortened to **kwargs in Python documentations.\n",
        "\n",
        "# used to pass a keyworded, variable-length argument list. We use the name kwargs with the double star.\n",
        "# The reason is that the double star allows us to pass through keyword arguments (and any number of them).\n",
        "\n",
        "# A keyword argument is where you provide a name to the variable as you pass it into the function\n",
        "\n",
        "# One can think of the kwargs as being a dictionary that maps each keyword to the value that we pass alongside it.\n",
        "# That is why when we iterate over the kwargs there doesn’t seem to be any order in which they were printed out."
      ],
      "metadata": {
        "id": "RldYEtzB0ZgW"
      },
      "execution_count": null,
      "outputs": []
    },
    {
      "cell_type": "code",
      "source": [
        "def num(n):\n",
        "  for i in range(0,n):\n",
        "    for j in range(n,i,-1):\n",
        "      print(j,end=' ')\n",
        "    print()\n",
        "num(12)"
      ],
      "metadata": {
        "colab": {
          "base_uri": "https://localhost:8080/"
        },
        "id": "-OJgHL9j4HcI",
        "outputId": "845e2caf-8b82-4133-a373-173552d2d1f6"
      },
      "execution_count": null,
      "outputs": [
        {
          "output_type": "stream",
          "name": "stdout",
          "text": [
            "12 11 10 9 8 7 6 5 4 3 2 1 \n",
            "12 11 10 9 8 7 6 5 4 3 2 \n",
            "12 11 10 9 8 7 6 5 4 3 \n",
            "12 11 10 9 8 7 6 5 4 \n",
            "12 11 10 9 8 7 6 5 \n",
            "12 11 10 9 8 7 6 \n",
            "12 11 10 9 8 7 \n",
            "12 11 10 9 8 \n",
            "12 11 10 9 \n",
            "12 11 10 \n",
            "12 11 \n",
            "12 \n"
          ]
        }
      ]
    },
    {
      "cell_type": "code",
      "source": [
        "def num(n):\n",
        "  for i in range(n+1):\n",
        "    for j in range(n+1,i+1,-1):\n",
        "      print(n,end=' ')\n",
        "    print()\n",
        "num(7)"
      ],
      "metadata": {
        "colab": {
          "base_uri": "https://localhost:8080/"
        },
        "id": "OAZWUeK649QH",
        "outputId": "bbac90f6-e7ac-465b-f36d-97bd7acfb3a2"
      },
      "execution_count": null,
      "outputs": [
        {
          "output_type": "stream",
          "name": "stdout",
          "text": [
            "7 7 7 7 7 7 7 \n",
            "7 7 7 7 7 7 \n",
            "7 7 7 7 7 \n",
            "7 7 7 7 \n",
            "7 7 7 \n",
            "7 7 \n",
            "7 \n",
            "\n"
          ]
        }
      ]
    },
    {
      "cell_type": "code",
      "source": [
        "# Python Try Except\n"
      ],
      "metadata": {
        "id": "hwH0WeWgJAlj"
      },
      "execution_count": null,
      "outputs": []
    },
    {
      "cell_type": "code",
      "source": [
        "def sum(a,b):\n",
        "  c=a+b\n",
        "  print(c)\n",
        "sum(1,3)"
      ],
      "metadata": {
        "colab": {
          "base_uri": "https://localhost:8080/"
        },
        "id": "d-nZ2TO-XDhm",
        "outputId": "0b28e79f-531f-4c15-ba57-38e5f7f989ed"
      },
      "execution_count": null,
      "outputs": [
        {
          "output_type": "stream",
          "name": "stdout",
          "text": [
            "4\n"
          ]
        }
      ]
    },
    {
      "cell_type": "code",
      "source": [
        "def ab(name,age,salary):\n",
        "  print(salary)\n",
        "ab(salary=10000,age=27,name='abhi')"
      ],
      "metadata": {
        "colab": {
          "base_uri": "https://localhost:8080/"
        },
        "id": "bCA07IaJZmbX",
        "outputId": "c4888585-1467-4846-ffa2-4e8b2fb05ce3"
      },
      "execution_count": null,
      "outputs": [
        {
          "output_type": "stream",
          "name": "stdout",
          "text": [
            "10000\n"
          ]
        }
      ]
    },
    {
      "cell_type": "code",
      "source": [
        "def mk(a,b,c=20,d=30):\n",
        "  print(a,b,c,d)\n",
        "mk(1,2)\n",
        "mk(1,2,4)\n",
        "mk(1,2,8,9)"
      ],
      "metadata": {
        "colab": {
          "base_uri": "https://localhost:8080/"
        },
        "id": "usQ_KBwvbMbE",
        "outputId": "540d5efd-6c49-4a51-c613-613891a027eb"
      },
      "execution_count": null,
      "outputs": [
        {
          "output_type": "stream",
          "name": "stdout",
          "text": [
            "1 2 20 30\n",
            "1 2 4 30\n",
            "1 2 8 9\n"
          ]
        }
      ]
    },
    {
      "cell_type": "code",
      "source": [
        "def fun(*args):\n",
        "  print(args)\n",
        "fun(1,8,6)"
      ],
      "metadata": {
        "colab": {
          "base_uri": "https://localhost:8080/"
        },
        "id": "WrGYEKZBboNm",
        "outputId": "50a4832d-d0f6-4399-f9cd-a9e4b1f0e59e"
      },
      "execution_count": null,
      "outputs": [
        {
          "output_type": "stream",
          "name": "stdout",
          "text": [
            "(1, 8, 6)\n"
          ]
        }
      ]
    },
    {
      "cell_type": "code",
      "source": [
        "def ab(a,b,*args):\n",
        "  print(a,b,*args)\n",
        "  print(args)\n",
        "\n",
        "ab(1,2,7,8,4)"
      ],
      "metadata": {
        "colab": {
          "base_uri": "https://localhost:8080/"
        },
        "id": "pbe2-H0WcNny",
        "outputId": "bb84a6f2-a8c0-463f-c94b-936b3950b03f"
      },
      "execution_count": null,
      "outputs": [
        {
          "output_type": "stream",
          "name": "stdout",
          "text": [
            "1 2 7 8 4\n",
            "(7, 8, 4)\n"
          ]
        }
      ]
    },
    {
      "cell_type": "code",
      "source": [
        "def person(**details):\n",
        "  print(details)\n",
        "person(name='abhi',salary=23000,age=32,place='calicut')"
      ],
      "metadata": {
        "colab": {
          "base_uri": "https://localhost:8080/"
        },
        "id": "bsrCS13Sczo-",
        "outputId": "8cbae391-260e-45cc-f92d-01ab8951a04b"
      },
      "execution_count": null,
      "outputs": [
        {
          "output_type": "stream",
          "name": "stdout",
          "text": [
            "{'name': 'abhi', 'salary': 23000, 'age': 32, 'place': 'calicut'}\n"
          ]
        }
      ]
    },
    {
      "cell_type": "code",
      "source": [
        "list=['apple','banana','cherry','grape']\n",
        "list[0]='kiwi'\n",
        "print(list)\n",
        "a=len(list)\n",
        "print(a)\n",
        "print(list[2:5])\n"
      ],
      "metadata": {
        "colab": {
          "base_uri": "https://localhost:8080/"
        },
        "id": "-eIv0SDnhoDc",
        "outputId": "60461681-f732-4584-d176-57b3b15f0348"
      },
      "execution_count": null,
      "outputs": [
        {
          "output_type": "stream",
          "name": "stdout",
          "text": [
            "['kiwi', 'banana', 'cherry', 'grape']\n",
            "4\n",
            "['cherry', 'grape']\n"
          ]
        }
      ]
    },
    {
      "cell_type": "code",
      "source": [
        "mytuple=('apple','banana','cherry','apple','grape')\n",
        "a=mytuple.count('apple')\n",
        "print(a)\n",
        "x=list(mytuple)\n",
        "print(x)\n",
        "x[2]='pappaya'\n",
        "print(x)\n",
        "mytuple=tuple(x)\n",
        "print(mytuple)"
      ],
      "metadata": {
        "colab": {
          "base_uri": "https://localhost:8080/"
        },
        "id": "7W-gDDvojYcF",
        "outputId": "93b183b0-cb4f-44d9-cdb4-b0a5179220fe"
      },
      "execution_count": null,
      "outputs": [
        {
          "output_type": "stream",
          "name": "stdout",
          "text": [
            "2\n",
            "['apple', 'banana', 'cherry', 'apple', 'grape']\n",
            "['apple', 'banana', 'pappaya', 'apple', 'grape']\n",
            "('apple', 'banana', 'pappaya', 'apple', 'grape')\n"
          ]
        }
      ]
    },
    {
      "cell_type": "code",
      "source": [
        "\n",
        "x=input(\"enter a letter\")\n",
        "if (x == 'a' or x == 'e' or x == 'i' or\n",
        "\t\tx == 'o' or x == 'u' or x == 'A' or\n",
        "\t\tx == 'E' or x == 'I' or x == 'O' or\n",
        "\t\tx == 'U'):\n",
        "\t\tprint(\"Vowel\")\n",
        "else:\n",
        "\t\tprint(\"Consonant\")\n",
        "\n"
      ],
      "metadata": {
        "colab": {
          "base_uri": "https://localhost:8080/"
        },
        "id": "cUkMMV-lsneK",
        "outputId": "428e6a24-6622-4f88-b895-ebb8598b16b5"
      },
      "execution_count": null,
      "outputs": [
        {
          "output_type": "stream",
          "name": "stdout",
          "text": [
            "enter a letters\n",
            "Consonant\n"
          ]
        }
      ]
    },
    {
      "cell_type": "code",
      "source": [
        "num=input(\"enter a number\")\n",
        "sum=0\n",
        "for i in num:\n",
        "  sum+=int(i)**len(num)\n",
        "print(sum)\n",
        "if sum==int(num):\n",
        "  print(\"number is an amstrong number\")\n",
        "else:\n",
        "  print(\"number is not an amstrong number\")"
      ],
      "metadata": {
        "colab": {
          "base_uri": "https://localhost:8080/"
        },
        "id": "8ssh82m4YHQ5",
        "outputId": "6fab20f5-ad6e-42b4-bcb5-80aaa616050f"
      },
      "execution_count": null,
      "outputs": [
        {
          "output_type": "stream",
          "name": "stdout",
          "text": [
            "enter a number153\n",
            "153\n",
            "number is an amstrong number\n"
          ]
        }
      ]
    },
    {
      "cell_type": "code",
      "source": [
        "mylist=list(range(1,25+1))\n",
        "evenlist=[i for i in mylist if i%2==0 if i%4==0]\n",
        "print(evenlist)"
      ],
      "metadata": {
        "colab": {
          "base_uri": "https://localhost:8080/"
        },
        "id": "6DK4iWbzeUmO",
        "outputId": "1307798d-2518-476f-dcf9-d609e7552b4a"
      },
      "execution_count": null,
      "outputs": [
        {
          "output_type": "stream",
          "name": "stdout",
          "text": [
            "[4, 8, 12, 16, 20, 24]\n"
          ]
        }
      ]
    },
    {
      "cell_type": "code",
      "source": [
        "x=\"malayalam9\"\n",
        "print(x[::-1])"
      ],
      "metadata": {
        "colab": {
          "base_uri": "https://localhost:8080/"
        },
        "id": "IDh_eIMQfcin",
        "outputId": "e33a6892-dd5e-4651-cce6-27fc6ad6f070"
      },
      "execution_count": null,
      "outputs": [
        {
          "output_type": "stream",
          "name": "stdout",
          "text": [
            "9malayalam\n"
          ]
        }
      ]
    },
    {
      "cell_type": "code",
      "source": [
        "mylist=[\"malayalam\",'futura','civic','apple']\n",
        "plist=[i for i in mylist if i[::-1]==i]\n",
        "print(plist)"
      ],
      "metadata": {
        "colab": {
          "base_uri": "https://localhost:8080/"
        },
        "id": "DWsW3itdf7sh",
        "outputId": "e54f67de-ad7a-43c1-a91d-f614c466a6d4"
      },
      "execution_count": null,
      "outputs": [
        {
          "output_type": "stream",
          "name": "stdout",
          "text": [
            "['malayalam', 'civic']\n"
          ]
        }
      ]
    },
    {
      "cell_type": "code",
      "source": [
        "myset=set(range(1,25+1))\n",
        "print(myset)\n",
        "pset={i for i in myset if i%2==0}\n",
        "print(pset)\n"
      ],
      "metadata": {
        "colab": {
          "base_uri": "https://localhost:8080/"
        },
        "id": "6rBP6Worinya",
        "outputId": "47478aba-8758-4952-8cdb-050774aea8ff"
      },
      "execution_count": null,
      "outputs": [
        {
          "output_type": "stream",
          "name": "stdout",
          "text": [
            "{1, 2, 3, 4, 5, 6, 7, 8, 9, 10, 11, 12, 13, 14, 15, 16, 17, 18, 19, 20, 21, 22, 23, 24, 25}\n",
            "{2, 4, 6, 8, 10, 12, 14, 16, 18, 20, 22, 24}\n"
          ]
        }
      ]
    },
    {
      "cell_type": "code",
      "source": [
        "mydictionary={i:i**2 for i in range(1,10+1)}\n",
        "print(mydictionary)"
      ],
      "metadata": {
        "colab": {
          "base_uri": "https://localhost:8080/"
        },
        "id": "JQqrl0OykKxA",
        "outputId": "472752dd-32ff-453c-9345-484c8f5ae4ce"
      },
      "execution_count": null,
      "outputs": [
        {
          "output_type": "stream",
          "name": "stdout",
          "text": [
            "{1: 1, 2: 4, 3: 9, 4: 16, 5: 25, 6: 36, 7: 49, 8: 64, 9: 81, 10: 100}\n"
          ]
        }
      ]
    },
    {
      "cell_type": "code",
      "source": [
        "mydictionary={1:'amal',\n",
        "              2:'mohit',\n",
        "              3:'riyas',\n",
        "              4:'ansar',\n",
        "              }\n",
        "mylist={i:i**2 for i in mydictionary.keys()}\n",
        "print(mylist)"
      ],
      "metadata": {
        "colab": {
          "base_uri": "https://localhost:8080/"
        },
        "id": "dJDkhsXplqkx",
        "outputId": "47572dff-567d-48bc-bec7-b55e2cffa317"
      },
      "execution_count": null,
      "outputs": [
        {
          "output_type": "stream",
          "name": "stdout",
          "text": [
            "{1: 1, 2: 4, 3: 9, 4: 16}\n"
          ]
        }
      ]
    },
    {
      "cell_type": "code",
      "source": [
        "mygen=[1,2,3,3,3,5,6,7,5,9]\n",
        "opgen=(i for i in mygen if i%2==0)\n",
        "print(opgen)\n",
        "for a in opgen:\n",
        "  print(a,end=' ')"
      ],
      "metadata": {
        "colab": {
          "base_uri": "https://localhost:8080/"
        },
        "id": "vUs1M4y1ygyk",
        "outputId": "f3038578-e1e3-4efc-ce4a-7c0b89675e4c"
      },
      "execution_count": null,
      "outputs": [
        {
          "output_type": "stream",
          "name": "stdout",
          "text": [
            "<generator object <genexpr> at 0x7d95d8ea1620>\n",
            "2 6 "
          ]
        }
      ]
    },
    {
      "cell_type": "code",
      "source": [
        "mylist=[2,7,8,9,7,11]\n",
        "sqlist=[i**2 for i in mylist if i**2>50]\n",
        "print(sqlist)\n"
      ],
      "metadata": {
        "colab": {
          "base_uri": "https://localhost:8080/"
        },
        "id": "x9IZIMbN015J",
        "outputId": "22adcdc9-d79e-468a-e850-4cbe4293fdcb"
      },
      "execution_count": null,
      "outputs": [
        {
          "output_type": "stream",
          "name": "stdout",
          "text": [
            "[64, 81, 121]\n"
          ]
        }
      ]
    },
    {
      "cell_type": "code",
      "source": [
        "sentence='welcome to kerala nice to meet you '\n",
        "# for i in sentence:\n",
        "  # print(i,end=' ')\n",
        "myset={len(i) for i in sentence.split() }\n",
        "print(myset)"
      ],
      "metadata": {
        "colab": {
          "base_uri": "https://localhost:8080/"
        },
        "id": "-o0WMtfV1XGp",
        "outputId": "ac259a03-de25-486c-f01f-e8cfcd806ed7"
      },
      "execution_count": null,
      "outputs": [
        {
          "output_type": "stream",
          "name": "stdout",
          "text": [
            "{2, 3, 4, 6, 7}\n"
          ]
        }
      ]
    },
    {
      "cell_type": "code",
      "source": [
        "dictdemo=[1,2,3,4,5,6,7]\n",
        "mydict={i:i**3 for i in dictdemo if i%2}\n",
        "print(mydict)"
      ],
      "metadata": {
        "id": "qt4LadPZ4s4E",
        "colab": {
          "base_uri": "https://localhost:8080/"
        },
        "outputId": "7163504a-b012-45d0-8580-9edeefbe9182"
      },
      "execution_count": null,
      "outputs": [
        {
          "output_type": "stream",
          "name": "stdout",
          "text": [
            "{1: 1, 3: 27, 5: 125, 7: 343}\n"
          ]
        }
      ]
    },
    {
      "cell_type": "code",
      "source": [
        "def sum(a,b):\n",
        "  c=a+b\n",
        "  return c\n",
        "print(sum(2,3))\n",
        "r=sum(2,3)+10\n",
        "print(r)"
      ],
      "metadata": {
        "colab": {
          "base_uri": "https://localhost:8080/"
        },
        "id": "icu1rmJvFrRd",
        "outputId": "de88b5c8-9347-4414-90fb-47214d341046"
      },
      "execution_count": null,
      "outputs": [
        {
          "output_type": "stream",
          "name": "stdout",
          "text": [
            "5\n",
            "15\n"
          ]
        }
      ]
    },
    {
      "cell_type": "code",
      "source": [
        "def fact(n):\n",
        "  if n<=1:\n",
        "    return 1\n",
        "  else:\n",
        "    return n*fact(n-1)\n",
        "print(fact(3))"
      ],
      "metadata": {
        "colab": {
          "base_uri": "https://localhost:8080/"
        },
        "id": "056PZXl5IQwd",
        "outputId": "c883d337-6702-4ce9-b9c8-54a465115019"
      },
      "execution_count": null,
      "outputs": [
        {
          "output_type": "stream",
          "name": "stdout",
          "text": [
            "6\n"
          ]
        }
      ]
    },
    {
      "cell_type": "code",
      "source": [
        "n=int(input(\"enter a numbr\"))\n",
        "def sum(n):\n",
        "  if n<=1:\n",
        "    return 1\n",
        "  else:\n",
        "    return n+sum(n-1)\n",
        "print(sum(n))\n"
      ],
      "metadata": {
        "colab": {
          "base_uri": "https://localhost:8080/"
        },
        "id": "LpYNcLc-KJxY",
        "outputId": "dfc8dd85-75a3-404f-e472-28ff457a76eb"
      },
      "execution_count": null,
      "outputs": [
        {
          "output_type": "stream",
          "name": "stdout",
          "text": [
            "enter a numbr5\n",
            "15\n"
          ]
        }
      ]
    },
    {
      "cell_type": "code",
      "source": [
        "mylist=[4,7,8,9,3]\n",
        "def sum(mylist):\n",
        "  if  len(mylist)==1:\n",
        "    return mylist[0]\n",
        "  else:\n",
        "    return mylist[0]+sum(mylist[1:])\n",
        "print(sum(mylist))\n",
        "\n"
      ],
      "metadata": {
        "colab": {
          "base_uri": "https://localhost:8080/"
        },
        "id": "7XCPCjlqMPgU",
        "outputId": "cd2b10e0-5887-48ab-e618-d868fc862402"
      },
      "execution_count": null,
      "outputs": [
        {
          "output_type": "stream",
          "name": "stdout",
          "text": [
            "31\n"
          ]
        }
      ]
    },
    {
      "cell_type": "code",
      "source": [
        "sum=lambda x,y:x+y\n",
        "print(sum(2,3))"
      ],
      "metadata": {
        "colab": {
          "base_uri": "https://localhost:8080/"
        },
        "id": "K0cN2DfhXACF",
        "outputId": "c29bbb29-ab16-4062-c8af-1321e3475375"
      },
      "execution_count": null,
      "outputs": [
        {
          "output_type": "stream",
          "name": "stdout",
          "text": [
            "5\n"
          ]
        }
      ]
    },
    {
      "cell_type": "code",
      "source": [
        "def myfun(x):\n",
        "  return lambda a:a*x\n",
        "y=myfun(10)\n",
        "print(y(2))"
      ],
      "metadata": {
        "colab": {
          "base_uri": "https://localhost:8080/"
        },
        "id": "cv6Fj571XYhi",
        "outputId": "b6978398-fc3c-4899-dacc-11f2908b363d"
      },
      "execution_count": null,
      "outputs": [
        {
          "output_type": "stream",
          "name": "stdout",
          "text": [
            "20\n"
          ]
        }
      ]
    },
    {
      "cell_type": "code",
      "source": [
        "a=lambda x:x+15\n",
        "print(a(2))"
      ],
      "metadata": {
        "colab": {
          "base_uri": "https://localhost:8080/"
        },
        "id": "09u5svI6Y-oN",
        "outputId": "f334a9e1-c39c-49b5-d70c-e978025f51f1"
      },
      "execution_count": null,
      "outputs": [
        {
          "output_type": "stream",
          "name": "stdout",
          "text": [
            "17\n"
          ]
        }
      ]
    },
    {
      "cell_type": "code",
      "source": [
        "mult=lambda x,y:x*y\n",
        "print((mult(2,3)))"
      ],
      "metadata": {
        "colab": {
          "base_uri": "https://localhost:8080/"
        },
        "id": "fz0nSf8RZnZw",
        "outputId": "752729e6-b65b-4262-e17d-afafe6c00e30"
      },
      "execution_count": null,
      "outputs": [
        {
          "output_type": "stream",
          "name": "stdout",
          "text": [
            "6\n"
          ]
        }
      ]
    },
    {
      "cell_type": "code",
      "source": [
        "a=int(input(\"enter a number\"))\n",
        "n=int(input(\"enter the limit\"))\n",
        "def mult(a,n):\n",
        "  for b in range (1,n+1,1):\n",
        "\n",
        "    print(a*b)\n",
        "mult(a,n)"
      ],
      "metadata": {
        "colab": {
          "base_uri": "https://localhost:8080/"
        },
        "id": "5mBGfUyfazTn",
        "outputId": "4cd3dd25-e593-463a-83b1-5dbbe780f862"
      },
      "execution_count": null,
      "outputs": [
        {
          "output_type": "stream",
          "name": "stdout",
          "text": [
            "enter a number5\n",
            "enter the limit5\n",
            "5\n",
            "10\n",
            "15\n",
            "20\n",
            "25\n"
          ]
        }
      ]
    },
    {
      "cell_type": "code",
      "source": [
        "a=int(input(\"enter the number\"))\n",
        "def sum(a):\n",
        "  s=0\n",
        "  for n in range(1,a+1,1):\n",
        "    s=s+n\n",
        "  print(s)\n",
        "sum(a)\n"
      ],
      "metadata": {
        "colab": {
          "base_uri": "https://localhost:8080/"
        },
        "id": "GNFFHH0Ed77Z",
        "outputId": "fdf105ea-9948-4c9d-b3d3-a1e1df5ccb38"
      },
      "execution_count": null,
      "outputs": [
        {
          "output_type": "stream",
          "name": "stdout",
          "text": [
            "enter the number5\n",
            "15\n"
          ]
        }
      ]
    },
    {
      "cell_type": "code",
      "source": [
        "a=int(input('enter the number'))\n",
        "b=int(input('enter the number'))\n",
        "def max(a,b):\n",
        "  if a>b:\n",
        "    return a\n",
        "  else:\n",
        "    return b\n",
        "print(max(a,b))"
      ],
      "metadata": {
        "colab": {
          "base_uri": "https://localhost:8080/"
        },
        "id": "bNKtAb7_gMUz",
        "outputId": "5dc30f4a-26cc-43bd-a51d-f83500d1d013"
      },
      "execution_count": null,
      "outputs": [
        {
          "output_type": "stream",
          "name": "stdout",
          "text": [
            "enter the number6\n",
            "enter the number7\n",
            "7\n"
          ]
        }
      ]
    },
    {
      "cell_type": "code",
      "source": [
        "for i in range(5):\n",
        "  for j in range(i+1):\n",
        "    print('*',end=' ')\n",
        "  print()"
      ],
      "metadata": {
        "colab": {
          "base_uri": "https://localhost:8080/"
        },
        "id": "I4ZaocT3hyGF",
        "outputId": "8aecc071-485a-466d-f364-024bb1d38613"
      },
      "execution_count": null,
      "outputs": [
        {
          "output_type": "stream",
          "name": "stdout",
          "text": [
            "* \n",
            "* * \n",
            "* * * \n",
            "* * * * \n",
            "* * * * * \n"
          ]
        }
      ]
    },
    {
      "cell_type": "code",
      "source": [
        "class X:\n",
        "  def ab(self):\n",
        "    print(\"car name\")\n",
        "a=X()\n",
        "a.ab()"
      ],
      "metadata": {
        "colab": {
          "base_uri": "https://localhost:8080/"
        },
        "id": "YQg9XRy3atXH",
        "outputId": "83aec15a-18b7-4e84-a745-f13e594692a6"
      },
      "execution_count": null,
      "outputs": [
        {
          "output_type": "stream",
          "name": "stdout",
          "text": [
            "car name\n"
          ]
        }
      ]
    },
    {
      "cell_type": "code",
      "source": [
        "class Student():\n",
        "  name=\"toyota\"\n",
        "  def __init__(self,model):\n",
        "    self.model=model\n",
        "\n",
        "  def ab(self):\n",
        "    print('my name is',self.model)\n",
        "# print(Student.name)\n",
        "s1=Student(2023)\n",
        "s1.ab()\n",
        "s2=Student(2012)\n",
        "s2.ab()"
      ],
      "metadata": {
        "colab": {
          "base_uri": "https://localhost:8080/"
        },
        "id": "hSjm6l_jdvoc",
        "outputId": "5637ac96-1898-48c7-c5c2-2dbd44cea987"
      },
      "execution_count": null,
      "outputs": [
        {
          "output_type": "stream",
          "name": "stdout",
          "text": [
            "my name is 2023\n",
            "my name is 2012\n"
          ]
        }
      ]
    },
    {
      "cell_type": "code",
      "source": [
        "class Employee():\n",
        "  company_name=\"kfc\"\n",
        "\n",
        "  def __init__(self,name,salary):\n",
        "    self.name=name\n",
        "    self.sallary=salary\n",
        "\n",
        "  def show(self):\n",
        "    print(\"i am employee\",self.name,\"my salary is\",self.sallary)\n",
        "e1=Employee('abhi',12000)\n",
        "e1.show()\n",
        "e2=Employee('adarsh',15000)\n",
        "e2.show()\n",
        "e3=Employee('sam',18000)\n",
        "e3.show()"
      ],
      "metadata": {
        "colab": {
          "base_uri": "https://localhost:8080/"
        },
        "id": "R3p201rWhGpH",
        "outputId": "0947bfaa-afed-4c3b-f183-7fb8d9bc78b9"
      },
      "execution_count": null,
      "outputs": [
        {
          "output_type": "stream",
          "name": "stdout",
          "text": [
            "i am employee abhi my salary is 12000\n",
            "i am employee adarsh my salary is 15000\n",
            "i am employee sam my salary is 18000\n"
          ]
        }
      ]
    },
    {
      "cell_type": "code",
      "source": [
        "class Car():\n",
        "  wheel=4\n",
        "  @classmethod\n",
        "  def count(ab):\n",
        "    print(ab.wheel)\n",
        "Car.count()\n"
      ],
      "metadata": {
        "colab": {
          "base_uri": "https://localhost:8080/"
        },
        "id": "3UPNL7blmU0N",
        "outputId": "c2f821e3-bebe-4344-b15e-fa3a1b6d89ed"
      },
      "execution_count": null,
      "outputs": [
        {
          "output_type": "stream",
          "name": "stdout",
          "text": [
            "4\n"
          ]
        }
      ]
    },
    {
      "cell_type": "code",
      "source": [
        "class Bus():\n",
        "  @staticmethod\n",
        "  def sum(a,b):\n",
        "    print(a+b)\n",
        "Bus.sum(2,9)"
      ],
      "metadata": {
        "colab": {
          "base_uri": "https://localhost:8080/"
        },
        "id": "wmBD1fqvnj3z",
        "outputId": "c0f773c4-32e2-407a-a5df-6348bbc5275d"
      },
      "execution_count": null,
      "outputs": [
        {
          "output_type": "stream",
          "name": "stdout",
          "text": [
            "11\n"
          ]
        }
      ]
    },
    {
      "cell_type": "code",
      "source": [
        "# task1\n",
        "\n",
        "class Vehicle():\n",
        "\n",
        "  def __init__(self,speed,milege):\n",
        "    self.speed=speed\n",
        "    self.milege=milege\n",
        "\n",
        "  def details(self):\n",
        "    print(self.speed,self.milege)\n",
        "\n",
        "car=Vehicle(100,20)\n",
        "car.details()\n",
        "\n"
      ],
      "metadata": {
        "colab": {
          "base_uri": "https://localhost:8080/"
        },
        "id": "KPRPQMTFHJsG",
        "outputId": "2fa853d1-e14b-4cc2-9462-d5685b5967e4"
      },
      "execution_count": null,
      "outputs": [
        {
          "output_type": "stream",
          "name": "stdout",
          "text": [
            "100 20\n"
          ]
        }
      ]
    },
    {
      "cell_type": "code",
      "source": [
        "# task2\n",
        "class Vehicles():\n",
        "  pass\n"
      ],
      "metadata": {
        "id": "_YkJ7bI_IDtH"
      },
      "execution_count": null,
      "outputs": []
    },
    {
      "cell_type": "code",
      "source": [
        "# task3\n",
        "for n in range(1,11):\n",
        "    print(n+(n-1))\n"
      ],
      "metadata": {
        "colab": {
          "base_uri": "https://localhost:8080/"
        },
        "id": "hzd8zTVCIuGT",
        "outputId": "95369ecf-f435-4e72-ad81-2ecde7133de0"
      },
      "execution_count": null,
      "outputs": [
        {
          "output_type": "stream",
          "name": "stdout",
          "text": [
            "1\n",
            "3\n",
            "5\n",
            "7\n",
            "9\n",
            "11\n",
            "13\n",
            "15\n",
            "17\n",
            "19\n"
          ]
        }
      ]
    },
    {
      "cell_type": "code",
      "source": [
        "# __init__\n",
        "\n",
        "# The __init__ method in Python is a special method used to initialize a newly created object.\n",
        "# It is known as the constructor in object-oriented programming.\n",
        "# When you create a new instance of a class, Python automatically calls the __init__ method to initialize the object's attributes.\n",
        "# Here’s a basic example:\n",
        "\n",
        "class Dog:\n",
        "    def __init__(self, name, age):\n",
        "        self.name = name\n",
        "        self.age = age\n",
        "\n",
        "# Creating an instance of the Dog class\n",
        "my_dog = Dog(\"Buddy\", 3)\n",
        "\n",
        "print(my_dog.name)\n",
        "print(my_dog.age)\n",
        "\n",
        "\n",
        "# -->Method Signature: The __init__ method is defined with self as its first parameter.\n",
        "# self refers to the instance of the object itself.\n",
        "# -->Initialization: The parameters provided to __init__ during object creation are used\n",
        "# to initialize the object’s attributes.\n",
        "# -->Automatic Invocation: __init__ is automatically called when a new instance of the class is created.\n",
        "\n",
        "\n",
        "# Example Explanation:\n",
        "# Dog is a class with an __init__ method that takes two parameters (besides self): name and age.\n",
        "# When my_dog = Dog(\"Buddy\", 3) is executed, a new Dog object is created, and the __init__ method initializes my_dog with the name \"Buddy\" and age 3.\n",
        "# The attributes name and age are then accessible through the my_dog instance.\n",
        "\n",
        "\n",
        "\n",
        "\n",
        "\n",
        "\n"
      ],
      "metadata": {
        "colab": {
          "base_uri": "https://localhost:8080/"
        },
        "id": "J4b4FZKlPQ1T",
        "outputId": "1d6160ea-a420-4dca-947c-4f56987bcd91"
      },
      "execution_count": null,
      "outputs": [
        {
          "output_type": "stream",
          "name": "stdout",
          "text": [
            "Buddy\n",
            "3\n"
          ]
        }
      ]
    },
    {
      "cell_type": "code",
      "source": [
        "class Vehicle():\n",
        "\n",
        "  def __init__(self,name,model,price):\n",
        "    self.name=name\n",
        "    self.model=model\n",
        "    self.price=price\n",
        "\n",
        "  def details(self):\n",
        "    print(self.name,self.model,self.price)\n",
        "\n",
        "class Car(Vehicle):\n",
        "\n",
        "  def gear_change(self,no):\n",
        "    print(self.name,'gear position is',no)\n",
        "car=Car('bmw','x6',3500000)\n",
        "car.details()\n",
        "car.gear_change(5)\n"
      ],
      "metadata": {
        "colab": {
          "base_uri": "https://localhost:8080/"
        },
        "id": "36aLWs-UpY8D",
        "outputId": "1de05884-0ff5-4415-937e-5dd12805ba88"
      },
      "execution_count": null,
      "outputs": [
        {
          "output_type": "stream",
          "name": "stdout",
          "text": [
            "bmw x6 3500000\n",
            "bmw gear position is 5\n"
          ]
        }
      ]
    },
    {
      "cell_type": "code",
      "source": [
        "\n",
        "    super().__init__(name,model,price)\n",
        "car=Car(\"a\",2023,900)\n",
        "car.gear_change()\n",
        "\n",
        "# class Red(Car):\n",
        "  # def colors(self,color):\n",
        "    # print(self.name,'gear position is',no)\n"
      ],
      "metadata": {
        "colab": {
          "base_uri": "https://localhost:8080/",
          "height": 256
        },
        "id": "QSCeSsBovamR",
        "outputId": "864ff5d7-175f-44d1-f422-4b8fb2460e7e"
      },
      "execution_count": null,
      "outputs": [
        {
          "output_type": "error",
          "ename": "TypeError",
          "evalue": "Car.__init__() takes 1 positional argument but 4 were given",
          "traceback": [
            "\u001b[0;31m---------------------------------------------------------------------------\u001b[0m",
            "\u001b[0;31mTypeError\u001b[0m                                 Traceback (most recent call last)",
            "\u001b[0;32m<ipython-input-46-44b012589ec9>\u001b[0m in \u001b[0;36m<cell line: 18>\u001b[0;34m()\u001b[0m\n\u001b[1;32m     16\u001b[0m \u001b[0;34m\u001b[0m\u001b[0m\n\u001b[1;32m     17\u001b[0m     \u001b[0msuper\u001b[0m\u001b[0;34m(\u001b[0m\u001b[0;34m)\u001b[0m\u001b[0;34m.\u001b[0m\u001b[0m__init__\u001b[0m\u001b[0;34m(\u001b[0m\u001b[0mname\u001b[0m\u001b[0;34m,\u001b[0m\u001b[0mmodel\u001b[0m\u001b[0;34m,\u001b[0m\u001b[0mprice\u001b[0m\u001b[0;34m)\u001b[0m\u001b[0;34m\u001b[0m\u001b[0;34m\u001b[0m\u001b[0m\n\u001b[0;32m---> 18\u001b[0;31m \u001b[0mcar\u001b[0m\u001b[0;34m=\u001b[0m\u001b[0mCar\u001b[0m\u001b[0;34m(\u001b[0m\u001b[0;34m\"a\"\u001b[0m\u001b[0;34m,\u001b[0m\u001b[0;36m2023\u001b[0m\u001b[0;34m,\u001b[0m\u001b[0;36m900\u001b[0m\u001b[0;34m)\u001b[0m\u001b[0;34m\u001b[0m\u001b[0;34m\u001b[0m\u001b[0m\n\u001b[0m\u001b[1;32m     19\u001b[0m \u001b[0mcar\u001b[0m\u001b[0;34m.\u001b[0m\u001b[0mgear_change\u001b[0m\u001b[0;34m(\u001b[0m\u001b[0;34m)\u001b[0m\u001b[0;34m\u001b[0m\u001b[0;34m\u001b[0m\u001b[0m\n\u001b[1;32m     20\u001b[0m \u001b[0;34m\u001b[0m\u001b[0m\n",
            "\u001b[0;31mTypeError\u001b[0m: Car.__init__() takes 1 positional argument but 4 were given"
          ]
        }
      ]
    },
    {
      "cell_type": "code",
      "source": [
        "class Gfather():\n",
        "   def func1(self):\n",
        "    print(\"grandpa class\")\n",
        "\n",
        "class Father(Gfather):\n",
        "  def func2(self):\n",
        "    print(\"father class\")\n",
        "\n",
        "class Son(Father):\n",
        "  pass\n",
        "\n",
        "s1=Son()\n",
        "s1.func2()\n"
      ],
      "metadata": {
        "colab": {
          "base_uri": "https://localhost:8080/"
        },
        "id": "C97-5JiQz6Ll",
        "outputId": "68e86ca7-964d-49be-d0da-f7089dfae69b"
      },
      "execution_count": null,
      "outputs": [
        {
          "output_type": "stream",
          "name": "stdout",
          "text": [
            "father class\n"
          ]
        }
      ]
    },
    {
      "cell_type": "code",
      "source": [
        "class Vehicle():\n",
        "\n",
        "  def __init__(self,name,model,price):\n",
        "    self.name=name\n",
        "    self.model=model\n",
        "    self.price=price\n",
        "\n",
        "  def details(self):\n",
        "    print(self.name,self.model,self.price)\n",
        "\n",
        "  def max_speed(self):\n",
        "    print('max speed is 150')\n",
        "\n",
        "  def gear_change(self):\n",
        "    print('gear position is 4')\n",
        "\n",
        "class Car(Vehicle):\n",
        "\n",
        "  def max_speed(self):\n",
        "    print('max speed is 240')\n",
        "\n",
        "  def gear_change(self):\n",
        "    print('gear position is 2')\n",
        "    super().gear_change()\n",
        "\n",
        "car=Car('maruti','swift',200000)\n",
        "car.details()\n",
        "car.max_speed()\n",
        "car.gear_change()"
      ],
      "metadata": {
        "colab": {
          "base_uri": "https://localhost:8080/"
        },
        "id": "OUT7O2nKuqiQ",
        "outputId": "beaddf39-1898-4b96-89c0-a8acd5a0c6f1"
      },
      "execution_count": null,
      "outputs": [
        {
          "output_type": "stream",
          "name": "stdout",
          "text": [
            "maruti swift 200000\n",
            "max speed is 240\n",
            "gear position is 2\n",
            "gear position is 4\n"
          ]
        }
      ]
    },
    {
      "cell_type": "code",
      "source": [
        "from abc import ABC, abstractmethod\n",
        "class Animal(ABC):\n",
        "  @abstractmethod\n",
        "  def move(self):\n",
        "    pass\n",
        "class Human(Animal):\n",
        "  def move(self):\n",
        "    print('human')\n",
        "\n",
        "class Snake(Animal):\n",
        "  def move(self):\n",
        "    print('snake')\n",
        "\n",
        "class Dog(Animal):\n",
        "  def move(self):\n",
        "    print('dog')\n",
        "\n",
        "h=Human()\n",
        "h.move()\n",
        "s=Snake()\n",
        "s.move()"
      ],
      "metadata": {
        "colab": {
          "base_uri": "https://localhost:8080/"
        },
        "id": "qdnf8YxL0GYw",
        "outputId": "5718713b-aa92-4c0f-cb78-b2d56790891d"
      },
      "execution_count": null,
      "outputs": [
        {
          "output_type": "stream",
          "name": "stdout",
          "text": [
            "human\n",
            "snake\n"
          ]
        }
      ]
    },
    {
      "cell_type": "code",
      "source": [
        "class Base:\n",
        "  def __init__(self):\n",
        "    self.a=10\n",
        "    self.__c=20\n",
        "  def get_c(self):\n",
        "    return self.__c\n",
        "  def set_c(self,value):\n",
        "    self.__c=value\n",
        "\n",
        "class Derived(Base):\n",
        "  def __init__(self):\n",
        "    Base.__init__(self)\n",
        "    print(self.get_c())\n",
        "\n",
        "obj1=Derived()\n",
        "obj1.set_c(15)\n",
        "print(obj1.get_c())\n"
      ],
      "metadata": {
        "colab": {
          "base_uri": "https://localhost:8080/"
        },
        "id": "yx99JL554NwE",
        "outputId": "22003dad-b6aa-4651-e5fa-e06502890035"
      },
      "execution_count": null,
      "outputs": [
        {
          "output_type": "stream",
          "name": "stdout",
          "text": [
            "20\n",
            "15\n"
          ]
        }
      ]
    },
    {
      "cell_type": "code",
      "source": [
        "\n",
        "x=10\n",
        "y=2\n",
        "try:\n",
        "  z=x/y\n",
        "  print(z)\n",
        "\n",
        "except:\n",
        "  print(\"exception\")\n",
        "finally:\n",
        "  print('b')"
      ],
      "metadata": {
        "colab": {
          "base_uri": "https://localhost:8080/"
        },
        "id": "qZFRtx9UCcgP",
        "outputId": "1cdce43b-8bbd-4066-e3ce-69e0c7190604"
      },
      "execution_count": null,
      "outputs": [
        {
          "output_type": "stream",
          "name": "stdout",
          "text": [
            "5.0\n",
            "b\n"
          ]
        }
      ]
    },
    {
      "cell_type": "code",
      "source": [
        "x=10\n",
        "y=0\n",
        "try:\n",
        "  z=x/y\n",
        "  print(z)\n",
        "except ZeroDivisionError:\n",
        "  print(\"exception occured\")\n",
        "\n",
        "  z=x\n",
        "  print(z)\n"
      ],
      "metadata": {
        "colab": {
          "base_uri": "https://localhost:8080/"
        },
        "id": "cJj-K-sODTTX",
        "outputId": "eed3a914-6fb1-4880-873e-240046cb89c5"
      },
      "execution_count": null,
      "outputs": [
        {
          "output_type": "stream",
          "name": "stdout",
          "text": [
            "exception occured\n",
            "10\n"
          ]
        }
      ]
    },
    {
      "cell_type": "markdown",
      "source": [],
      "metadata": {
        "id": "71tA3diQEStL"
      }
    },
    {
      "cell_type": "code",
      "source": [
        "from logging import exception\n",
        "x=10\n",
        "y=2\n",
        "try:\n",
        "  z=x/n\n",
        "  print(z)\n",
        "except ZeroDivisionError:\n",
        "  print(\"zero exception occured\")\n",
        "except NameError:\n",
        "  print(\"name error occured\")\n",
        "except exception as e:\n",
        "  print(\"exception\",e)\n",
        "else:\n",
        "  print(\"no exception\")\n"
      ],
      "metadata": {
        "colab": {
          "base_uri": "https://localhost:8080/"
        },
        "id": "vuPBIbjzETg8",
        "outputId": "d1afe276-7111-4aed-abba-ced7aef50e1f"
      },
      "execution_count": null,
      "outputs": [
        {
          "output_type": "stream",
          "name": "stdout",
          "text": [
            "name error occured\n"
          ]
        }
      ]
    },
    {
      "cell_type": "code",
      "source": [
        "x=1\n",
        "y=2\n",
        "n=2\n",
        "if x<5:\n",
        "  raise Exception('value of x less than 5')\n",
        "else:\n",
        "  print(x)"
      ],
      "metadata": {
        "colab": {
          "base_uri": "https://localhost:8080/",
          "height": 256
        },
        "id": "u6JfEYAXFpKB",
        "outputId": "edf8d9f9-2aa8-4488-ee6b-483ded98475a"
      },
      "execution_count": null,
      "outputs": [
        {
          "output_type": "error",
          "ename": "Exception",
          "evalue": "value of x less than 5",
          "traceback": [
            "\u001b[0;31m---------------------------------------------------------------------------\u001b[0m",
            "\u001b[0;31mException\u001b[0m                                 Traceback (most recent call last)",
            "\u001b[0;32m<ipython-input-25-62abd34b3690>\u001b[0m in \u001b[0;36m<cell line: 4>\u001b[0;34m()\u001b[0m\n\u001b[1;32m      3\u001b[0m \u001b[0mn\u001b[0m\u001b[0;34m=\u001b[0m\u001b[0;36m2\u001b[0m\u001b[0;34m\u001b[0m\u001b[0;34m\u001b[0m\u001b[0m\n\u001b[1;32m      4\u001b[0m \u001b[0;32mif\u001b[0m \u001b[0mx\u001b[0m\u001b[0;34m<\u001b[0m\u001b[0;36m5\u001b[0m\u001b[0;34m:\u001b[0m\u001b[0;34m\u001b[0m\u001b[0;34m\u001b[0m\u001b[0m\n\u001b[0;32m----> 5\u001b[0;31m   \u001b[0;32mraise\u001b[0m \u001b[0mException\u001b[0m\u001b[0;34m(\u001b[0m\u001b[0;34m'value of x less than 5'\u001b[0m\u001b[0;34m)\u001b[0m\u001b[0;34m\u001b[0m\u001b[0;34m\u001b[0m\u001b[0m\n\u001b[0m\u001b[1;32m      6\u001b[0m \u001b[0;32melse\u001b[0m\u001b[0;34m:\u001b[0m\u001b[0;34m\u001b[0m\u001b[0;34m\u001b[0m\u001b[0m\n\u001b[1;32m      7\u001b[0m   \u001b[0mprint\u001b[0m\u001b[0;34m(\u001b[0m\u001b[0mx\u001b[0m\u001b[0;34m)\u001b[0m\u001b[0;34m\u001b[0m\u001b[0;34m\u001b[0m\u001b[0m\n",
            "\u001b[0;31mException\u001b[0m: value of x less than 5"
          ]
        }
      ]
    },
    {
      "cell_type": "markdown",
      "source": [],
      "metadata": {
        "id": "ENbyISyg_2N3"
      }
    },
    {
      "cell_type": "code",
      "source": [
        "# DECORATORS\n",
        "\n",
        ">>In Python, decorators are a powerful and expressive tool that allow you to\n",
        "  modify the behavior of a function or a method without changing its actual code.\n",
        "  A decorator is a higher-order function, meaning it takes a function as an argument\n",
        "  and returns a new function that usually extends or alters the behavior of the original function.\n",
        "\n",
        ">>A decorator is a function that takes another function as an argument and\n",
        "  returns a new function that typically adds some kind of behavior before or\n",
        "  after calling the original function\n",
        "\n",
        "  # Decorator function\n",
        "def my_decorator(func):\n",
        "    def wrapper():\n",
        "        print(\"Something is happening before the function is called.\")\n",
        "        func()\n",
        "        print(\"Something is happening after the function is called.\")\n",
        "    return wrapper\n",
        "\n",
        "# Function to be decorated\n",
        "@my_decorator\n",
        "def say_hello():\n",
        "    print(\"Hello!\")\n",
        "\n",
        "# Call the decorated function\n",
        "say_hello()\n",
        "\n",
        "# output\n",
        "\n",
        "Something is happening before the function is called.\n",
        "Hello!\n",
        "Something is happening after the function is called.\n",
        "\n",
        ">>># The say_hello function is passed to my_decorator.\n",
        ">>># The wrapper function inside my_decorator is returned.\n",
        ">>># When say_hello() is called, it is replaced by the wrapper function,\n",
        "   #which adds behavior before and after calling the original say_hello.\n",
        "\n",
        "\n",
        "        # range() function\n",
        "\n",
        ">>In Python, the range() function is often used in a for loop to generate\n",
        "  a sequence of numbers for iteration\n",
        "\n",
        ">>It's a versatile function that provides control over the start,\n",
        "  stop, and step values of the sequence.\n",
        "  # Syntax\n",
        "\n",
        "        range(start, stop, step)\n",
        "\n",
        "# start (optional):\n",
        "                   The beginning of the sequence. Defaults to 0 if omitted.\n",
        "# stop (required):\n",
        "                   The end of the sequence (exclusive).\n",
        "# step (optional):\n",
        "                   The difference between each number in the sequence. Defaults to 1.\n",
        "\n",
        "        Basic Example\n",
        "\n",
        "1.       for i in range(5):\n",
        "          print(i)\n",
        "                  #  --By default, range() starts at 0 and goes up to (but does not include) the stop value.\n",
        "\n",
        "2.       for i in range(1, 10, 2):\n",
        "          print(i)\n",
        "                    #  --The step value is 2, so the sequence increments by 2.\n",
        "                    #  --If no step is provided, it defaults to 1.\n",
        "\n",
        "3.  fruits = [\"apple\", \"banana\", \"cherry\"]\n",
        "      for i in range(len(fruits)):\n",
        "            print(f\"Index {i}: {fruits[i]}\")\n",
        "\n",
        "               Index 0: apple\n",
        "               Index 1: banana\n",
        "               Index 2: cherry\n",
        "\n",
        "                  #  --Use range() to iterate over indices of a list, string, or other iterable:\n",
        "\n",
        "\n",
        "\n",
        "\n"
      ],
      "metadata": {
        "id": "nl1pGU1kXeWV"
      },
      "execution_count": null,
      "outputs": []
    },
    {
      "cell_type": "code",
      "source": [
        "a=int(input('enter the number of small pizza'))\n",
        "b=int(input('enter the number of medium pizza'))\n",
        "c=int(input('enter the number of large pizza'))\n",
        "\n",
        "e=int(input('enter the number of extra cheeses'))\n",
        "bill=a*170+b*230+c*280+e*10\n",
        "print(bill)\n",
        "\n",
        "1\n",
        "\n",
        "\n"
      ],
      "metadata": {
        "colab": {
          "base_uri": "https://localhost:8080/"
        },
        "id": "Zq5mne-RXXwB",
        "outputId": "cd893346-3ef2-400e-ad84-1f92caf447c4"
      },
      "execution_count": null,
      "outputs": [
        {
          "output_type": "stream",
          "name": "stdout",
          "text": [
            "enter the number of small pizza2\n",
            "enter the number of medium pizza1\n",
            "enter the number of large pizza3\n",
            "enter the number of extra cheeses2\n",
            "1430\n"
          ]
        }
      ]
    },
    {
      "cell_type": "code",
      "source": [
        "for i in range(1,8):\n",
        "  for j in range(i,0,-1):\n",
        "    print(j,end=' ')\n",
        "  print()\n"
      ],
      "metadata": {
        "colab": {
          "base_uri": "https://localhost:8080/"
        },
        "id": "umRy9KWdXprw",
        "outputId": "9eaadce4-b47f-4118-fb0b-8fea0bb632ba"
      },
      "execution_count": null,
      "outputs": [
        {
          "output_type": "stream",
          "name": "stdout",
          "text": [
            "1 \n",
            "2 1 \n",
            "3 2 1 \n",
            "4 3 2 1 \n",
            "5 4 3 2 1 \n",
            "6 5 4 3 2 1 \n",
            "7 6 5 4 3 2 1 \n"
          ]
        }
      ]
    },
    {
      "cell_type": "code",
      "source": [
        "mylist=['dog','cat','donot','shatter','at','todo']\n",
        "max_len=0\n",
        "for i in mylist:\n",
        "  if (len(i)>max_len):\n",
        "    max_len=len(i)\n",
        "    longest=i\n",
        "print(longest)\n",
        "\n"
      ],
      "metadata": {
        "colab": {
          "base_uri": "https://localhost:8080/"
        },
        "id": "rn_NhIDSXyE7",
        "outputId": "b5c25beb-49d4-48c7-b35c-a1bc2f7971ec"
      },
      "execution_count": null,
      "outputs": [
        {
          "output_type": "stream",
          "name": "stdout",
          "text": [
            "shatter\n"
          ]
        }
      ]
    },
    {
      "cell_type": "code",
      "source": [
        "def ArrayChallenge():\n",
        "  mylist=[44,30,24,32,35,30,40,38,15]\n",
        "  min=mylist[0]\n",
        "  max=mylist[8]\n",
        "  for y in range(len(mylist)-1):\n",
        "    if mylist[y]< mylist[y+1]:\n",
        "      if mylist[y]<min:\n",
        "        min=mylist[y]\n",
        "\n",
        "    if mylist[y+1]> mylist[y]:\n",
        "      if mylist[y+1]>max:\n",
        "        max=mylist[y+1]\n",
        "\n",
        "  print(min)\n",
        "  print(max)\n",
        "  max_profit=max-min\n",
        "  print(max_profit)\n",
        "ArrayChallenge()\n",
        "\n",
        "\n"
      ],
      "metadata": {
        "colab": {
          "base_uri": "https://localhost:8080/"
        },
        "id": "rmeai6ugX54Y",
        "outputId": "5cf08690-7c62-4aa7-aa8f-c9a2dea63f02"
      },
      "execution_count": null,
      "outputs": [
        {
          "output_type": "stream",
          "name": "stdout",
          "text": [
            "24\n",
            "40\n",
            "16\n"
          ]
        }
      ]
    },
    {
      "cell_type": "code",
      "source": [
        "f = open(\"myfile.txt\", \"w\")\n",
        "f.write(\"hello futura labs. futura labs providing technology learning\")\n",
        "f = open(\"myfile.txt\", \"r\")\n",
        "# print(f.read())\n",
        "a=f.read()\n",
        "\n",
        "b=a.count(\"futura\")\n",
        "print(b)\n",
        "print(a)\n",
        "f.close()\n",
        "\n"
      ],
      "metadata": {
        "colab": {
          "base_uri": "https://localhost:8080/"
        },
        "id": "W6vjfTMAX-qy",
        "outputId": "2b7fd11c-6e1c-4385-9008-6628ac434617"
      },
      "execution_count": null,
      "outputs": [
        {
          "output_type": "stream",
          "name": "stdout",
          "text": [
            "2\n",
            "hello futura labs. futura labs providing technology learning\n"
          ]
        }
      ]
    }
  ],
  "metadata": {
    "colab": {
      "provenance": [],
      "authorship_tag": "ABX9TyMEsVAEq1bx5SYVUhH8c6Vg",
      "include_colab_link": true
    },
    "kernelspec": {
      "display_name": "Python 3",
      "name": "python3"
    },
    "language_info": {
      "name": "python"
    }
  },
  "nbformat": 4,
  "nbformat_minor": 0
}